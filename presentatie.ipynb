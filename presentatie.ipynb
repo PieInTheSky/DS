{
 "cells": [
  {
   "cell_type": "markdown",
   "metadata": {
    "slideshow": {
     "slide_type": "slide"
    }
   },
   "source": [
    "# Cito toets\n",
    "### Patrick Michel Pierre"
   ]
  },
  {
   "cell_type": "markdown",
   "metadata": {
    "slideshow": {
     "slide_type": "slide"
    }
   },
   "source": [
    "# Onderzoek\n",
    "\n",
    "## vraag?"
   ]
  },
  {
   "cell_type": "markdown",
   "metadata": {
    "slideshow": {
     "slide_type": "slide"
    }
   },
   "source": [
    "# Data\n",
    "\n",
    "## Bron : CBS\n",
    "\n",
    "### Beschikbare data\n",
    "* Quasi cito scores\n",
    "* Etniciteit\n",
    "* Regionaal\n",
    "* Verdeling Autochtonen en Allochtonen\n"
   ]
  },
  {
   "cell_type": "markdown",
   "metadata": {
    "slideshow": {
     "slide_type": "slide"
    }
   },
   "source": [
    "# Ruwe data\n",
    "* Onnodige kolommen\n",
    "* Vreemde format"
   ]
  },
  {
   "cell_type": "markdown",
   "metadata": {
    "slideshow": {
     "slide_type": "slide"
    }
   },
   "source": [
    "<img src='https://github.com/PieInTheSky/DS/blob/master/ruwe%20data.png?raw=true'>"
   ]
  },
  {
   "cell_type": "markdown",
   "metadata": {
    "slideshow": {
     "slide_type": "slide"
    }
   },
   "source": [
    "# Opgeschoonde data"
   ]
  },
  {
   "cell_type": "markdown",
   "metadata": {
    "slideshow": {
     "slide_type": "slide"
    }
   },
   "source": [
    "<img src='https://github.com/PieInTheSky/DS/blob/master/schone%20data.png?raw=true'>"
   ]
  },
  {
   "cell_type": "markdown",
   "metadata": {
    "slideshow": {
     "slide_type": "slide"
    }
   },
   "source": [
    "# Analyses\n",
    "\n",
    "## Pearson correlatie\n"
   ]
  },
  {
   "cell_type": "code",
   "execution_count": 6,
   "metadata": {
    "collapsed": false,
    "slideshow": {
     "slide_type": "slide"
    }
   },
   "outputs": [],
   "source": [
    "import pandas as pd\n",
    "import numpy as np\n",
    "%matplotlib inline\n",
    "\n",
    "cbs = pd.read_excel(\"Data2.xlsx\")\n",
    "cito = pd.read_excel(\"scholenoverzicht_0.xls\")\n",
    "\n",
    "def correlation(year, column):\n",
    "    \n",
    "    cbs_data = cbs[cbs.Perioden == year].fillna(0)\n",
    "    if year == 2013:\n",
    "        cito_data= cito[cito.TOETS_2013 =='cito']\n",
    "    elif year == 2014:\n",
    "        cito_data= cito[cito.TOETS_2014 =='cito']\n",
    "\n",
    "    compdata = pd.pivot_table(cbs_data, index = [\"Regionale kerncijfers Nederland\"], values = [column], dropna = True)\n",
    "\n",
    "    cito_prov = pd.pivot_table(cito_data,index=[\"provincie\"], values=['quasicito'], dropna = True)\n",
    "\n",
    "    result = pd.concat([cito_prov, compdata], axis=1, join='inner')\n",
    "\n",
    "    graph = result.plot(kind='scatter', marker='s', logy=True, figsize=(7, 5), x = 'quasicito',\n",
    "                        y = column, title= 'Ethnicity vs Cito score '+ str(year))\n",
    "\n",
    "    print 'Pearson Correlation (R)'\n",
    "    table = result.corr(method = 'pearson')\n",
    "    \n",
    "    return table"
   ]
  },
  {
   "cell_type": "code",
   "execution_count": 7,
   "metadata": {
    "collapsed": false,
    "slideshow": {
     "slide_type": "slide"
    }
   },
   "outputs": [
    {
     "name": "stdout",
     "output_type": "stream",
     "text": [
      "Pearson Correlation (R)\n"
     ]
    },
    {
     "data": {
      "text/html": [
       "<div style=\"max-height:1000px;max-width:1500px;overflow:auto;\">\n",
       "<table border=\"1\" class=\"dataframe\">\n",
       "  <thead>\n",
       "    <tr style=\"text-align: right;\">\n",
       "      <th></th>\n",
       "      <th>quasicito</th>\n",
       "      <th>Totaal allochtonen rl</th>\n",
       "    </tr>\n",
       "  </thead>\n",
       "  <tbody>\n",
       "    <tr>\n",
       "      <th>quasicito</th>\n",
       "      <td> 1.000000</td>\n",
       "      <td>-0.238895</td>\n",
       "    </tr>\n",
       "    <tr>\n",
       "      <th>Totaal allochtonen rl</th>\n",
       "      <td>-0.238895</td>\n",
       "      <td> 1.000000</td>\n",
       "    </tr>\n",
       "  </tbody>\n",
       "</table>\n",
       "</div>"
      ],
      "text/plain": [
       "                       quasicito  Totaal allochtonen rl\n",
       "quasicito               1.000000              -0.238895\n",
       "Totaal allochtonen rl  -0.238895               1.000000"
      ]
     },
     "execution_count": 7,
     "metadata": {},
     "output_type": "execute_result"
    },
    {
     "data": {
      "image/png": "[encoded data removed]",
      "text/plain": [
       "<matplotlib.figure.Figure at 0x107ef8610>"
      ]
     },
     "metadata": {},
     "output_type": "display_data"
    }
   ],
   "source": [
    "year = 2013\n",
    "\n",
    "column = 'Totaal allochtonen rl'\n",
    "\n",
    "correlation(year, column)"
   ]
  },
  {
   "cell_type": "code",
   "execution_count": 8,
   "metadata": {
    "collapsed": false,
    "slideshow": {
     "slide_type": "slide"
    }
   },
   "outputs": [
    {
     "name": "stdout",
     "output_type": "stream",
     "text": [
      "Pearson Correlation (R)\n"
     ]
    },
    {
     "data": {
      "text/html": [
       "<div style=\"max-height:1000px;max-width:1500px;overflow:auto;\">\n",
       "<table border=\"1\" class=\"dataframe\">\n",
       "  <thead>\n",
       "    <tr style=\"text-align: right;\">\n",
       "      <th></th>\n",
       "      <th>quasicito</th>\n",
       "      <th>Autochtonen rl</th>\n",
       "    </tr>\n",
       "  </thead>\n",
       "  <tbody>\n",
       "    <tr>\n",
       "      <th>quasicito</th>\n",
       "      <td> 1.000000</td>\n",
       "      <td> 0.238895</td>\n",
       "    </tr>\n",
       "    <tr>\n",
       "      <th>Autochtonen rl</th>\n",
       "      <td> 0.238895</td>\n",
       "      <td> 1.000000</td>\n",
       "    </tr>\n",
       "  </tbody>\n",
       "</table>\n",
       "</div>"
      ],
      "text/plain": [
       "                quasicito  Autochtonen rl\n",
       "quasicito        1.000000        0.238895\n",
       "Autochtonen rl   0.238895        1.000000"
      ]
     },
     "execution_count": 8,
     "metadata": {},
     "output_type": "execute_result"
    },
    {
     "data": {
      "image/png": "[encoded data removed]",
      "text/plain": [
       "<matplotlib.figure.Figure at 0x109b6c650>"
      ]
     },
     "metadata": {},
     "output_type": "display_data"
    }
   ],
   "source": [
    "column = 'Autochtonen rl'\n",
    "\n",
    "correlation(year, column)"
   ]
  },
  {
   "cell_type": "code",
   "execution_count": null,
   "metadata": {
    "collapsed": true
   },
   "outputs": [],
   "source": []
  }
 ],
 "metadata": {
  "celltoolbar": "Slideshow",
  "kernelspec": {
   "display_name": "Python 2",
   "language": "python",
   "name": "python2"
  },
  "language_info": {
   "codemirror_mode": {
    "name": "ipython",
    "version": 2
   },
   "file_extension": ".py",
   "mimetype": "text/x-python",
   "name": "python",
   "nbconvert_exporter": "python",
   "pygments_lexer": "ipython2",
   "version": "2.7.11"
  }
 },
 "nbformat": 4,
 "nbformat_minor": 0
}
