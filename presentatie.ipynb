{
 "cells": [
  {
   "cell_type": "markdown",
   "metadata": {
    "slideshow": {
     "slide_type": "slide"
    }
   },
   "source": [
    "# Cito toets\n",
    "### Patrick Michel Pierre"
   ]
  },
  {
   "cell_type": "markdown",
   "metadata": {
    "slideshow": {
     "slide_type": "slide"
    }
   },
   "source": [
    "# Onderzoek\n",
    "\n",
    "## Bestaat er een verband tussen cito scores en de mate van etniciteit binnen een regio?"
   ]
  },
  {
   "cell_type": "markdown",
   "metadata": {
    "slideshow": {
     "slide_type": "slide"
    }
   },
   "source": [
    "# Data\n",
    "\n",
    "## Bron : CBS\n",
    "\n",
    "### Beschikbare data\n",
    "\n",
    "* Etniciteit\n",
    "* Regionaal\n",
    "* Verdeling Autochtonen en Allochtonen\n"
   ]
  },
  {
   "cell_type": "markdown",
   "metadata": {
    "slideshow": {
     "slide_type": "slide"
    }
   },
   "source": [
    "# Ruwe data\n",
    "* Onnodige kolommen\n",
    "* Vreemde format"
   ]
  },
  {
   "cell_type": "markdown",
   "metadata": {
    "slideshow": {
     "slide_type": "slide"
    }
   },
   "source": [
    "<img src='https://github.com/PieInTheSky/DS/blob/master/ruwe%20data.png?raw=true'>"
   ]
  },
  {
   "cell_type": "markdown",
   "metadata": {
    "slideshow": {
     "slide_type": "slide"
    }
   },
   "source": [
    "# Opgeschoonde data"
   ]
  },
  {
   "cell_type": "markdown",
   "metadata": {
    "slideshow": {
     "slide_type": "slide"
    }
   },
   "source": [
    "<img src='https://github.com/PieInTheSky/DS/blob/master/schone%20data.png?raw=true'>"
   ]
  },
  {
   "cell_type": "markdown",
   "metadata": {
    "slideshow": {
     "slide_type": "slide"
    }
   },
   "source": [
    "# Analyses\n",
    "\n",
    "## Pearson correlatie\n"
   ]
  },
  {
   "cell_type": "code",
   "execution_count": 15,
   "metadata": {
    "collapsed": false,
    "slideshow": {
     "slide_type": "slide"
    }
   },
   "outputs": [],
   "source": [
    "import pandas as pd\n",
    "import numpy as np\n",
    "%matplotlib inline\n",
    "\n",
    "cbs = pd.read_excel(\"Data2.xlsx\")\n",
    "cito = pd.read_excel(\"scholenoverzicht_0.xls\")\n",
    "\n",
    "def correlation(year, column):\n",
    "    \n",
    "    cbs_data = cbs[cbs.Perioden == year].fillna(0)\n",
    "    if year == 2013:\n",
    "        cito_data= cito[cito.TOETS_2013 =='cito']\n",
    "    elif year == 2014:\n",
    "        cito_data= cito[cito.TOETS_2014 =='cito']\n",
    "\n",
    "    compdata = pd.pivot_table(cbs_data, index = [\"Regionale kerncijfers Nederland\"],\n",
    "                              values = [column], dropna = True)\n",
    "\n",
    "    cito_prov = pd.pivot_table(cito_data,index=[\"provincie\"], values=['quasicito'], dropna = True)\n",
    "\n",
    "    result = pd.concat([cito_prov, compdata], axis=1, join='inner')\n",
    "\n",
    "    graph = result.plot(kind='scatter', marker='s', figsize=(7, 5), x = 'quasicito',\n",
    "                        y = column, title= 'Ethnicity vs Cito score '+ str(year))\n",
    "\n",
    "    print 'Pearson Correlation (R)'\n",
    "    table = result.corr(method = 'pearson')\n",
    "    \n",
    "    return table"
   ]
  },
  {
   "cell_type": "code",
   "execution_count": 16,
   "metadata": {
    "collapsed": false,
    "slideshow": {
     "slide_type": "slide"
    }
   },
   "outputs": [
    {
     "name": "stdout",
     "output_type": "stream",
     "text": [
      "Pearson Correlation (R)\n"
     ]
    },
    {
     "data": {
      "text/html": [
       "<div style=\"max-height:1000px;max-width:1500px;overflow:auto;\">\n",
       "<table border=\"1\" class=\"dataframe\">\n",
       "  <thead>\n",
       "    <tr style=\"text-align: right;\">\n",
       "      <th></th>\n",
       "      <th>quasicito</th>\n",
       "      <th>Totaal allochtonen %</th>\n",
       "    </tr>\n",
       "  </thead>\n",
       "  <tbody>\n",
       "    <tr>\n",
       "      <th>quasicito</th>\n",
       "      <td> 1.000000</td>\n",
       "      <td>-0.238895</td>\n",
       "    </tr>\n",
       "    <tr>\n",
       "      <th>Totaal allochtonen %</th>\n",
       "      <td>-0.238895</td>\n",
       "      <td> 1.000000</td>\n",
       "    </tr>\n",
       "  </tbody>\n",
       "</table>\n",
       "</div>"
      ],
      "text/plain": [
       "                      quasicito  Totaal allochtonen %\n",
       "quasicito              1.000000             -0.238895\n",
       "Totaal allochtonen %  -0.238895              1.000000"
      ]
     },
     "execution_count": 16,
     "metadata": {},
     "output_type": "execute_result"
    },
    {
     "data": {
      "image/png": "[encoded data removed]",
      "text/plain": [
       "<matplotlib.figure.Figure at 0x10afa9150>"
      ]
     },
     "metadata": {},
     "output_type": "display_data"
    }
   ],
   "source": [
    "year = 2013\n",
    "\n",
    "column = 'Totaal allochtonen %'\n",
    "\n",
    "correlation(year, column)"
   ]
  },
  {
   "cell_type": "code",
   "execution_count": 17,
   "metadata": {
    "collapsed": false,
    "slideshow": {
     "slide_type": "slide"
    }
   },
   "outputs": [
    {
     "name": "stdout",
     "output_type": "stream",
     "text": [
      "Pearson Correlation (R)\n"
     ]
    },
    {
     "data": {
      "text/html": [
       "<div style=\"max-height:1000px;max-width:1500px;overflow:auto;\">\n",
       "<table border=\"1\" class=\"dataframe\">\n",
       "  <thead>\n",
       "    <tr style=\"text-align: right;\">\n",
       "      <th></th>\n",
       "      <th>quasicito</th>\n",
       "      <th>Autochtonen %</th>\n",
       "    </tr>\n",
       "  </thead>\n",
       "  <tbody>\n",
       "    <tr>\n",
       "      <th>quasicito</th>\n",
       "      <td> 1.000000</td>\n",
       "      <td> 0.238895</td>\n",
       "    </tr>\n",
       "    <tr>\n",
       "      <th>Autochtonen %</th>\n",
       "      <td> 0.238895</td>\n",
       "      <td> 1.000000</td>\n",
       "    </tr>\n",
       "  </tbody>\n",
       "</table>\n",
       "</div>"
      ],
      "text/plain": [
       "               quasicito  Autochtonen %\n",
       "quasicito       1.000000       0.238895\n",
       "Autochtonen %   0.238895       1.000000"
      ]
     },
     "execution_count": 17,
     "metadata": {},
     "output_type": "execute_result"
    },
    {
     "data": {
      "image/png": "[encoded data removed]",
      "text/plain": [
       "<matplotlib.figure.Figure at 0x1093a8c10>"
      ]
     },
     "metadata": {},
     "output_type": "display_data"
    }
   ],
   "source": [
    "column = 'Autochtonen %'\n",
    "\n",
    "correlation(year, column)"
   ]
  },
  {
   "cell_type": "code",
   "execution_count": 18,
   "metadata": {
    "collapsed": false,
    "slideshow": {
     "slide_type": "slide"
    }
   },
   "outputs": [
    {
     "name": "stdout",
     "output_type": "stream",
     "text": [
      "Pearson Correlation (R)\n"
     ]
    },
    {
     "data": {
      "text/html": [
       "<div style=\"max-height:1000px;max-width:1500px;overflow:auto;\">\n",
       "<table border=\"1\" class=\"dataframe\">\n",
       "  <thead>\n",
       "    <tr style=\"text-align: right;\">\n",
       "      <th></th>\n",
       "      <th>quasicito</th>\n",
       "      <th>(Voormalige) Ned. Antillen en Aruba %</th>\n",
       "    </tr>\n",
       "  </thead>\n",
       "  <tbody>\n",
       "    <tr>\n",
       "      <th>quasicito</th>\n",
       "      <td> 1.000000</td>\n",
       "      <td>-0.647773</td>\n",
       "    </tr>\n",
       "    <tr>\n",
       "      <th>(Voormalige) Ned. Antillen en Aruba %</th>\n",
       "      <td>-0.647773</td>\n",
       "      <td> 1.000000</td>\n",
       "    </tr>\n",
       "  </tbody>\n",
       "</table>\n",
       "</div>"
      ],
      "text/plain": [
       "                                       quasicito  \\\n",
       "quasicito                               1.000000   \n",
       "(Voormalige) Ned. Antillen en Aruba %  -0.647773   \n",
       "\n",
       "                                       (Voormalige) Ned. Antillen en Aruba %  \n",
       "quasicito                                                          -0.647773  \n",
       "(Voormalige) Ned. Antillen en Aruba %                               1.000000  "
      ]
     },
     "execution_count": 18,
     "metadata": {},
     "output_type": "execute_result"
    },
    {
     "data": {
      "image/png": "[encoded data removed]",
      "text/plain": [
       "<matplotlib.figure.Figure at 0x10814b390>"
      ]
     },
     "metadata": {},
     "output_type": "display_data"
    }
   ],
   "source": [
    "column = '(Voormalige) Ned. Antillen en Aruba %'\n",
    "\n",
    "correlation(year, column)"
   ]
  },
  {
   "cell_type": "code",
   "execution_count": 19,
   "metadata": {
    "collapsed": false,
    "scrolled": true,
    "slideshow": {
     "slide_type": "slide"
    }
   },
   "outputs": [
    {
     "name": "stdout",
     "output_type": "stream",
     "text": [
      "Pearson Correlation (R)\n"
     ]
    },
    {
     "data": {
      "text/html": [
       "<div style=\"max-height:1000px;max-width:1500px;overflow:auto;\">\n",
       "<table border=\"1\" class=\"dataframe\">\n",
       "  <thead>\n",
       "    <tr style=\"text-align: right;\">\n",
       "      <th></th>\n",
       "      <th>quasicito</th>\n",
       "      <th>Suriname %</th>\n",
       "    </tr>\n",
       "  </thead>\n",
       "  <tbody>\n",
       "    <tr>\n",
       "      <th>quasicito</th>\n",
       "      <td> 1.000000</td>\n",
       "      <td>-0.668096</td>\n",
       "    </tr>\n",
       "    <tr>\n",
       "      <th>Suriname %</th>\n",
       "      <td>-0.668096</td>\n",
       "      <td> 1.000000</td>\n",
       "    </tr>\n",
       "  </tbody>\n",
       "</table>\n",
       "</div>"
      ],
      "text/plain": [
       "            quasicito  Suriname %\n",
       "quasicito    1.000000   -0.668096\n",
       "Suriname %  -0.668096    1.000000"
      ]
     },
     "execution_count": 19,
     "metadata": {},
     "output_type": "execute_result"
    },
    {
     "data": {
      "image/png": "[encoded data removed]",
      "text/plain": [
       "<matplotlib.figure.Figure at 0x1081775d0>"
      ]
     },
     "metadata": {},
     "output_type": "display_data"
    }
   ],
   "source": [
    "column = 'Suriname %'\n",
    "\n",
    "correlation(year, column)"
   ]
  },
  {
   "cell_type": "markdown",
   "metadata": {
    "slideshow": {
     "slide_type": "slide"
    }
   },
   "source": [
    "# Discussie\n",
    "* Niet alle basisscholen meegenomen\n",
    "* Op plaatselijk niveau geen grote correlaties te vinden"
   ]
  },
  {
   "cell_type": "markdown",
   "metadata": {
    "slideshow": {
     "slide_type": "slide"
    }
   },
   "source": [
    "# Conclusie\n",
    "\n",
    "* Provinciaal niveau\n",
    "* Plaatselijk niveau"
   ]
  }
 ],
 "metadata": {
  "celltoolbar": "Slideshow",
  "kernelspec": {
   "display_name": "Python 2",
   "language": "python",
   "name": "python2"
  },
  "language_info": {
   "codemirror_mode": {
    "name": "ipython",
    "version": 2
   },
   "file_extension": ".py",
   "mimetype": "text/x-python",
   "name": "python",
   "nbconvert_exporter": "python",
   "pygments_lexer": "ipython2",
   "version": "2.7.11"
  }
 },
 "nbformat": 4,
 "nbformat_minor": 0
}
