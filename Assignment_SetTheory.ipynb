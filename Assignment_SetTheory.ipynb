{
 "cells": [
  {
   "cell_type": "markdown",
   "metadata": {
    "slideshow": {
     "slide_type": "slide"
    }
   },
   "source": [
    "# [Verzamelingen][ver]\n",
    "\n",
    "* We bekijken verzamelingen in theorie en in the praktijk in Python.\n",
    "* We volgen <http://en.wikipedia.org/wiki/Set_(mathematics)>\n",
    "* Ten slotte bekijken we het verband tussen verzamelingen en Boolse Logica.\n",
    "\n",
    "[ver]:http://en.wikipedia.org/wiki/Set_(mathematics)"
   ]
  },
  {
   "cell_type": "code",
   "execution_count": 1,
   "metadata": {
    "collapsed": false
   },
   "outputs": [
    {
     "data": {
      "text/html": [
       "<iframe src=http://en.wikipedia.org/wiki/Set_(mathematics) width=700 height=350></iframe>"
      ],
      "text/plain": [
       "<IPython.core.display.HTML object>"
      ]
     },
     "execution_count": 1,
     "metadata": {},
     "output_type": "execute_result"
    }
   ],
   "source": [
    "from IPython.display import HTML\n",
    "HTML('<iframe src=http://en.wikipedia.org/wiki/Set_(mathematics) width=700 height=350></iframe>')"
   ]
  },
  {
   "cell_type": "code",
   "execution_count": 30,
   "metadata": {
    "collapsed": false
   },
   "outputs": [
    {
     "name": "stdout",
     "output_type": "stream",
     "text": [
      "This application is used to convert notebook files (*.ipynb) to various other\n",
      "formats.\n",
      "\n",
      "WARNING: THE COMMANDLINE INTERFACE MAY CHANGE IN FUTURE RELEASES.\n",
      "\n",
      "Options\n",
      "\n",
      "-------\n",
      "\n",
      "\n",
      "\n",
      "Arguments that take values are actually convenience aliases to full\n",
      "Configurables, whose aliases are listed on the help line. For more information\n",
      "on full configurables, see '--help-all'.\n",
      "\n",
      "\n",
      "-y\n",
      "\n",
      "    Answer yes to any questions instead of prompting.\n",
      "\n",
      "--execute\n",
      "\n",
      "    Execute the notebook prior to export.\n",
      "\n",
      "--allow-errors\n",
      "\n",
      "    Continue notebook execution even if one of the cells throws an error and include the error message in the cell output (the default behaviour is to abort conversion). This flag is only relevant if '--execute' was specified, too.\n",
      "\n",
      "--stdout\n",
      "\n",
      "    Write notebook output to stdout instead of files.\n",
      "\n",
      "--debug\n",
      "\n",
      "    set log level to logging.DEBUG (maximize logging output)\n",
      "\n",
      "--inplace\n",
      "\n",
      "    Run nbconvert in place, overwriting the existing notebook (only \n",
      "    relevant when converting to notebook format)\n",
      "\n",
      "--generate-config\n",
      "\n",
      "    generate default config file\n",
      "--reveal-prefix=<Unicode> (SlidesExporter.reveal_url_prefix)\n",
      "\n",
      "    Default: u''\n",
      "\n",
      "    The URL prefix for reveal.js. This can be a a relative URL for a local copy\n",
      "\n",
      "    of reveal.js, or point to a CDN.\n",
      "\n",
      "    For speaker notes to work, a local reveal.js prefix must be used.\n",
      "\n",
      "--nbformat=<Enum> (NotebookExporter.nbformat_version)\n",
      "\n",
      "    Default: 4\n",
      "\n",
      "    Choices: [1, 2, 3, 4]\n",
      "\n",
      "    The nbformat version to write. Use this to downgrade notebooks.\n",
      "\n",
      "--writer=<DottedObjectName> (NbConvertApp.writer_class)\n",
      "\n",
      "    Default: 'FilesWriter'\n",
      "\n",
      "    Writer class used to write the  results of the conversion\n",
      "\n",
      "--log-level=<Enum> (Application.log_level)\n",
      "\n",
      "    Default: 30\n",
      "\n",
      "    Choices: (0, 10, 20, 30, 40, 50, 'DEBUG', 'INFO', 'WARN', 'ERROR', 'CRITICAL')\n",
      "\n",
      "    Set the log level by value or name.\n",
      "\n",
      "--to=<CaselessStrEnum> (NbConvertApp.export_format)\n",
      "\n",
      "    Default: 'html'\n",
      "\n",
      "    Choices: [u'custom', u'html', u'latex', u'markdown', u'notebook', u'pdf', u'python', u'rst', u'script', u'slides']\n",
      "\n",
      "    The export format to be used.\n",
      "\n",
      "--template=<Unicode> (TemplateExporter.template_file)\n",
      "\n",
      "    Default: u''\n",
      "\n",
      "    Name of the template file to use\n",
      "\n",
      "--output=<Unicode> (NbConvertApp.output_base)\n",
      "\n",
      "    Default: ''\n",
      "\n",
      "    overwrite base name use for output files. can only be used when converting\n",
      "\n",
      "    one notebook at a time.\n",
      "\n",
      "--post=<DottedOrNone> (NbConvertApp.postprocessor_class)\n",
      "\n",
      "    Default: u''\n",
      "\n",
      "    PostProcessor class used to write the  results of the conversion\n",
      "\n",
      "--config=<Unicode> (JupyterApp.config_file)\n",
      "\n",
      "    Default: u''\n",
      "\n",
      "    Full path of a config file.\n",
      "\n",
      "To see all available configurables, use `--help-all`\n",
      "\n",
      "Examples\n",
      "--------\n",
      "\n",
      "    The simplest way to use nbconvert is\n",
      "    \n",
      "    > jupyter nbconvert mynotebook.ipynb\n",
      "    \n",
      "    which will convert mynotebook.ipynb to the default format (probably HTML).\n",
      "    \n",
      "    You can specify the export format with `--to`.\n",
      "    Options include ['custom', 'html', 'latex', 'markdown', 'notebook', 'pdf', 'python', 'rst', 'script', 'slides']\n",
      "    \n",
      "    > jupyter nbconvert --to latex mynotebook.ipynb\n",
      "    \n",
      "    Both HTML and LaTeX support multiple output templates. LaTeX includes\n",
      "    'base', 'article' and 'report'.  HTML includes 'basic' and 'full'. You\n",
      "    can specify the flavor of the format used.\n",
      "    \n",
      "    > jupyter nbconvert --to html --template basic mynotebook.ipynb\n",
      "    \n",
      "    You can also pipe the output to stdout, rather than a file\n",
      "    \n",
      "    > jupyter nbconvert mynotebook.ipynb --stdout\n",
      "    \n",
      "    PDF is generated via latex\n",
      "    \n",
      "    > jupyter nbconvert mynotebook.ipynb --to pdf\n",
      "    \n",
      "    You can get (and serve) a Reveal.js-powered slideshow\n",
      "    \n",
      "    > jupyter nbconvert myslides.ipynb --to slides --post serve\n",
      "    \n",
      "    Multiple notebooks can be given at the command line in a couple of \n",
      "    different ways:\n",
      "    \n",
      "    > jupyter nbconvert notebook*.ipynb\n",
      "    > jupyter nbconvert notebook1.ipynb notebook2.ipynb\n",
      "    \n",
      "    or you can specify the notebooks list in a config file, containing::\n",
      "    \n",
      "        c.NbConvertApp.notebooks = [\"my_notebook.ipynb\"]\n",
      "    \n",
      "    > jupyter nbconvert --config mycfg.py\n",
      "\n"
     ]
    },
    {
     "name": "stderr",
     "output_type": "stream",
     "text": [
      "[TerminalIPythonApp] WARNING | Subcommand `ipython nbconvert` is deprecated and will be removed in future versions.\n",
      "[TerminalIPythonApp] WARNING | You likely want to use `jupyter nbconvert`... continue in 5 sec. Press Ctrl-C to quit now.\n",
      "[NbConvertApp] WARNING | pattern u'http://localhost:8888/notebooks/Desktop/Assignment_SetTheory.ipynb' matched no files\n"
     ]
    }
   ],
   "source": [
    "!ipython nbconvert http://localhost:8888/notebooks/Desktop/Assignment_SetTheory.ipynb --to slides --reveal-prefix \"http://maartenmarx.nl/reveal.js\"\n"
   ]
  },
  {
   "cell_type": "markdown",
   "metadata": {
    "slideshow": {
     "slide_type": "slide"
    }
   },
   "source": [
    "# [Definitie van een verzameling][def]\n",
    "\n",
    "* We geven geen formele definitie. \n",
    "* The most basic properties are that a set has elements, \n",
    "* and that two sets are equal (one and the same) if and only if every element of one set is an element of the other.\n",
    "\n",
    "[def]: http://en.wikipedia.org/wiki/Set_(mathematics)#Definition \"Definitie\"\n",
    "\n",
    " "
   ]
  },
  {
   "cell_type": "markdown",
   "metadata": {},
   "source": [
    "# [Hoe maak je een verzameling? En hoe noteer je een verzameling?][des]\n",
    "\n",
    "[des]: http://en.wikipedia.org/wiki/Set_(mathematics)#Describing_sets\n",
    "\n",
    "## Voorbeelden\n",
    "\n",
    "### Extensioneel (opnoemen)\n",
    "* $C = \\{4, 2, 1, 3\\}$\n",
    "* $D = \\{blue, white, red\\}$\n",
    "\n",
    "### Intensioneel (met een definitie)\n",
    "\n",
    "*  $F=\\{n^2 \\mid n \\in \\mathbb{N} \\mbox{ en } 1\\leq n\\leq 10 \\}$ (De eerste tien kwadraten)\n",
    "*  Alle even getallen:\n",
    "* Alle getallen deelbaar door acht"
   ]
  },
  {
   "cell_type": "code",
   "execution_count": 3,
   "metadata": {
    "collapsed": false,
    "slideshow": {
     "slide_type": "subslide"
    }
   },
   "outputs": [],
   "source": [
    "C = {4,2,1,3}\n",
    "CC = {1,2,3,4}\n",
    "CCC = set(range(1,5))\n",
    "CCCC = set([4,2,1,3])\n"
   ]
  },
  {
   "cell_type": "code",
   "execution_count": 4,
   "metadata": {
    "collapsed": false,
    "slideshow": {
     "slide_type": "fragment"
    }
   },
   "outputs": [
    {
     "data": {
      "text/plain": [
       "{1, 2, 3, 4}"
      ]
     },
     "execution_count": 4,
     "metadata": {},
     "output_type": "execute_result"
    }
   ],
   "source": [
    "C"
   ]
  },
  {
   "cell_type": "code",
   "execution_count": 102,
   "metadata": {
    "collapsed": false,
    "slideshow": {
     "slide_type": "fragment"
    }
   },
   "outputs": [
    {
     "data": {
      "text/plain": [
       "{1, 2, 3, 4}"
      ]
     },
     "execution_count": 102,
     "metadata": {},
     "output_type": "execute_result"
    }
   ],
   "source": [
    "CCC"
   ]
  },
  {
   "cell_type": "code",
   "execution_count": 103,
   "metadata": {
    "collapsed": false,
    "slideshow": {
     "slide_type": "fragment"
    }
   },
   "outputs": [
    {
     "data": {
      "text/plain": [
       "True"
      ]
     },
     "execution_count": 103,
     "metadata": {},
     "output_type": "execute_result"
    }
   ],
   "source": [
    "C==CCC"
   ]
  },
  {
   "cell_type": "code",
   "execution_count": 104,
   "metadata": {
    "collapsed": false,
    "slideshow": {
     "slide_type": "fragment"
    }
   },
   "outputs": [
    {
     "data": {
      "text/plain": [
       "{'blue', 'red', 'white'}"
      ]
     },
     "execution_count": 104,
     "metadata": {},
     "output_type": "execute_result"
    }
   ],
   "source": [
    "D = {'blue','white','red'}\n",
    "D"
   ]
  },
  {
   "cell_type": "markdown",
   "metadata": {
    "slideshow": {
     "slide_type": "slide"
    }
   },
   "source": [
    "# Set en List comprehension in Python"
   ]
  },
  {
   "cell_type": "code",
   "execution_count": 105,
   "metadata": {
    "collapsed": false,
    "slideshow": {
     "slide_type": "fragment"
    }
   },
   "outputs": [
    {
     "data": {
      "text/plain": [
       "{1, 4, 9, 16, 25, 36, 49, 64, 81, 100}"
      ]
     },
     "execution_count": 105,
     "metadata": {},
     "output_type": "execute_result"
    }
   ],
   "source": [
    "F = {n*n for n in range(1,11)}\n",
    "F"
   ]
  },
  {
   "cell_type": "code",
   "execution_count": 20,
   "metadata": {
    "collapsed": false,
    "slideshow": {
     "slide_type": "fragment"
    }
   },
   "outputs": [
    {
     "data": {
      "text/plain": [
       "[1, 4, 9, 16, 25, 36, 49, 64, 81, 100]"
      ]
     },
     "execution_count": 20,
     "metadata": {},
     "output_type": "execute_result"
    }
   ],
   "source": [
    "FL = [n*n for n in range(1,11)]\n",
    "FL"
   ]
  },
  {
   "cell_type": "code",
   "execution_count": 50,
   "metadata": {
    "collapsed": false,
    "slideshow": {
     "slide_type": "fragment"
    }
   },
   "outputs": [
    {
     "name": "stdout",
     "output_type": "stream",
     "text": [
      "The 2 sets {6,11} and {11,6} are identical: True\n",
      "The 2 lists [6,11] and [11,6] are identical: False\n",
      "So order matters for lists but not for sets\n"
     ]
    }
   ],
   "source": [
    "#Your turn: show that order matters for lists but not for sets\n",
    "\n",
    "\n",
    "print 'The 2 sets {6,11} and {11,6} are identical:', {6, 11} == {11, 6} \n",
    "\n",
    "print 'The 2 lists [6,11] and [11,6] are identical:', [6, 11] == [11,6]\n",
    "\n",
    "print 'So order matters for lists but not for sets'\n",
    "\n"
   ]
  },
  {
   "cell_type": "markdown",
   "metadata": {
    "slideshow": {
     "slide_type": "fragment"
    }
   },
   "source": [
    "## Adding conditions"
   ]
  },
  {
   "cell_type": "code",
   "execution_count": 40,
   "metadata": {
    "collapsed": false,
    "slideshow": {
     "slide_type": "fragment"
    }
   },
   "outputs": [
    {
     "data": {
      "text/plain": [
       "{'a', 'd', 'e', 'g', 'h', 'i', 'k', 'l', 'm', 'n', 'r', 'u', 'v', 'z'}"
      ]
     },
     "execution_count": 40,
     "metadata": {},
     "output_type": "execute_result"
    }
   ],
   "source": [
    "Letters = {char.lower() for char in 'Ik vind       verzamelingen HEEL Leuk!!!!' if not char in ' !' }\n",
    "\n",
    "Letters\n"
   ]
  },
  {
   "cell_type": "markdown",
   "metadata": {
    "slideshow": {
     "slide_type": "slide"
    }
   },
   "source": [
    "# Let op!\n",
    "\n",
    "* Verzameling heeft geen volgorde\n",
    "* Je kan er dus niet het \"eerste element\" uithalen\n",
    "* Elk element van een verzameling moet _hashable_ zijn. \n",
    "    * Sets, lijsten en dictionairies zijn dat **niet**.\n",
    "\n",
    "Zie <http://en.wikibooks.org/wiki/Python_Programming/Sets> voor verzamelingen in Python."
   ]
  },
  {
   "cell_type": "code",
   "execution_count": 17,
   "metadata": {
    "collapsed": false,
    "slideshow": {
     "slide_type": "fragment"
    }
   },
   "outputs": [
    {
     "ename": "TypeError",
     "evalue": "'set' object does not support indexing",
     "output_type": "error",
     "traceback": [
      "\u001b[1;31m---------------------------------------------------------------------------\u001b[0m",
      "\u001b[1;31mTypeError\u001b[0m                                 Traceback (most recent call last)",
      "\u001b[1;32m<ipython-input-17-d0a9df08dfd4>\u001b[0m in \u001b[0;36m<module>\u001b[1;34m()\u001b[0m\n\u001b[0;32m      1\u001b[0m \u001b[0mA\u001b[0m \u001b[1;33m=\u001b[0m \u001b[1;33m{\u001b[0m\u001b[1;36m1\u001b[0m\u001b[1;33m,\u001b[0m\u001b[1;36m2\u001b[0m\u001b[1;33m,\u001b[0m\u001b[1;36m3\u001b[0m\u001b[1;33m}\u001b[0m\u001b[1;33m\u001b[0m\u001b[0m\n\u001b[1;32m----> 2\u001b[1;33m \u001b[0mA\u001b[0m\u001b[1;33m[\u001b[0m\u001b[1;36m0\u001b[0m\u001b[1;33m]\u001b[0m\u001b[1;33m\u001b[0m\u001b[0m\n\u001b[0m",
      "\u001b[1;31mTypeError\u001b[0m: 'set' object does not support indexing"
     ]
    }
   ],
   "source": [
    "A = {1,2,3}\n",
    "A[0]"
   ]
  },
  {
   "cell_type": "markdown",
   "metadata": {
    "slideshow": {
     "slide_type": "slide"
    }
   },
   "source": [
    "# [Lid van en deel van een verzameling, machtsverzameling][mem]\n",
    "\n",
    "[mem]: http://en.wikipedia.org/wiki/Set_(mathematics)#Membership\n",
    "\n"
   ]
  },
  {
   "cell_type": "markdown",
   "metadata": {
    "slideshow": {
     "slide_type": "slide"
    }
   },
   "source": [
    "# Python"
   ]
  },
  {
   "cell_type": "code",
   "execution_count": 24,
   "metadata": {
    "collapsed": false,
    "slideshow": {
     "slide_type": "fragment"
    }
   },
   "outputs": [
    {
     "data": {
      "text/plain": [
       "False"
      ]
     },
     "execution_count": 24,
     "metadata": {},
     "output_type": "execute_result"
    }
   ],
   "source": [
    "# Lid van een verzameling\n",
    "\n",
    "1 in {2,3,4}"
   ]
  },
  {
   "cell_type": "code",
   "execution_count": 18,
   "metadata": {
    "collapsed": false,
    "slideshow": {
     "slide_type": "fragment"
    }
   },
   "outputs": [
    {
     "data": {
      "text/plain": [
       "True"
      ]
     },
     "execution_count": 18,
     "metadata": {},
     "output_type": "execute_result"
    }
   ],
   "source": [
    "1 in {2,3,1}"
   ]
  },
  {
   "cell_type": "code",
   "execution_count": 4,
   "metadata": {
    "collapsed": false,
    "slideshow": {
     "slide_type": "slide"
    }
   },
   "outputs": [
    {
     "name": "stdout",
     "output_type": "stream",
     "text": [
      "set([2])\n",
      "set([])\n",
      "True\n"
     ]
    }
   ],
   "source": [
    "#deelverzameling\n",
    "\n",
    "def deelverzameling(A,B):\n",
    "    if A==set([]):\n",
    "        return True\n",
    "\n",
    "\n",
    "        \n",
    "    else:       \n",
    "        element = A.pop() # pak een element uit A, A is nu de rest\n",
    "        \n",
    "        # maak dit af, gebruik liefst recursie  \n",
    "        \n",
    "        if element not in B:\n",
    "            return False\n",
    "        \n",
    "        return deelverzameling(A,B)\n",
    "    \n",
    "    \n",
    "print deelverzameling({1,2},{2,3,1})"
   ]
  },
  {
   "cell_type": "code",
   "execution_count": 96,
   "metadata": {
    "collapsed": false,
    "slideshow": {
     "slide_type": "slide"
    }
   },
   "outputs": [
    {
     "data": {
      "text/plain": [
       "[[],\n",
       " [1],\n",
       " [2],\n",
       " [1, 2],\n",
       " [3],\n",
       " [1, 3],\n",
       " [2, 3],\n",
       " [1, 2, 3],\n",
       " [4],\n",
       " [1, 4],\n",
       " [2, 4],\n",
       " [1, 2, 4],\n",
       " [3, 4],\n",
       " [1, 3, 4],\n",
       " [2, 3, 4],\n",
       " [1, 2, 3, 4]]"
      ]
     },
     "execution_count": 96,
     "metadata": {},
     "output_type": "execute_result"
    }
   ],
   "source": [
    "# Machtsverzameling\n",
    "\n",
    "## warmlopen: maak alle 2**n combinaties van letters uit een string _s_ van lengte n (volgorde doet er niet toe)\n",
    "def com(s):\n",
    "    if s=='':\n",
    "        return ['']\n",
    "    else:\n",
    "        left = com(s[1:])\n",
    "        right = [s[0]+ss for ss in com(s[1:])]\n",
    "        return left+right\n",
    "# test\n",
    "com('abc')\n",
    "    \n",
    "### Doe nu hetzelfde maar dan voor machtsverzameling\n",
    "\n",
    "def machtsverzameling(A):\n",
    "    '''voor A een verzameling, geeft machtsverzameling(A) een lijst met alle deelverzamelingen van A'''\n",
    "    if A== []:\n",
    "        return [[]]\n",
    "    else:\n",
    "         e = A.pop()\n",
    "         left = machtsverzameling(A)\n",
    "          \n",
    "         right = [a + [e] for a in left  ]\n",
    "         \n",
    "    return left + right\n",
    "\n",
    "machtsverzameling([1,2,3,4])\n",
    " "
   ]
  },
  {
   "cell_type": "code",
   "execution_count": 26,
   "metadata": {
    "collapsed": false
   },
   "outputs": [
    {
     "data": {
      "text/plain": [
       "[set(), {3}, {2}, {2, 3}, {1}, {1, 3}, {1, 2}, {1, 2, 3}]"
      ]
     },
     "execution_count": 26,
     "metadata": {},
     "output_type": "execute_result"
    }
   ],
   "source": [
    "def machtsverzameling(A):\n",
    "    '''voor A een verzameling, geeft machtsverzameling(A) een lijst met alle deelverzamelingen van A'''\n",
    "    if A== set([]):\n",
    "        return [set()]\n",
    "    else:\n",
    "         e = A.pop()\n",
    "         left = machtsverzameling(A)\n",
    "          \n",
    "         right = [set(list(a) + [e]) for a in left  ]\n",
    "         \n",
    "    return left + right\n",
    "# test\n",
    "machtsverzameling(set([1,2,3]))"
   ]
  },
  {
   "cell_type": "code",
   "execution_count": 32,
   "metadata": {
    "collapsed": false
   },
   "outputs": [
    {
     "data": {
      "text/plain": [
       "[set(), {3}, {2}, {2, 3}, {1}, {1, 3}, {1, 2}, {1, 2, 3}]"
      ]
     },
     "execution_count": 32,
     "metadata": {},
     "output_type": "execute_result"
    }
   ],
   "source": [
    "def machtsverzameling(A):\n",
    "    '''voor A een verzameling, geeft machtsverzameling(A) een lijst met alle deelverzamelingen van A'''\n",
    "    if A== set([]):\n",
    "        return [set()]\n",
    "    else:\n",
    "         e = list(A)[0]\n",
    "         rest = list(A)[1:]   \n",
    "         left = machtsverzameling(set(rest))\n",
    "          \n",
    "         right = [a | {e}   for a in left  ]\n",
    "         \n",
    "    return left + right\n",
    "# test\n",
    "machtsverzameling(set([1,2,3]))"
   ]
  },
  {
   "cell_type": "markdown",
   "metadata": {
    "slideshow": {
     "slide_type": "slide"
    }
   },
   "source": [
    "# Exclusive or\n",
    "\n",
    "* Also called symmetric difference\n",
    "* Often mistakingly used as the meaning of the natural language \"or\"\n",
    "* used very much in programming\n",
    "\n",
    "## definition\n",
    "> $e \\in A\\  XOR\\  B \\iff e \\in A$ or $e \\in B$, but not in both\n",
    "\n",
    "> $ A \\ XOR\\  B \\equiv (A \\cup B) \\setminus (A\\cap B)$\n",
    "\n",
    "\n",
    "![XOR](http://upload.wikimedia.org/wikipedia/commons/4/46/Venn0110.svg)\n",
    "\n"
   ]
  },
  {
   "cell_type": "markdown",
   "metadata": {
    "slideshow": {
     "slide_type": "slide"
    }
   },
   "source": [
    "# Exclusive or\n",
    "\n",
    "## Implementation in Python\n",
    "\n",
    "* <http://en.wikibooks.org/wiki/Python_Programming/Sets#Symmetric_Difference>\n",
    "\n",
    "```\n",
    ">>> s1 = set([4, 6, 9])\n",
    ">>> s2 = set([1, 6, 8])\n",
    ">>> s1.symmetric_difference(s2)\n",
    "set([8, 1, 4, 9])\n",
    ">>> s1 ^ s2\n",
    "set([8, 1, 4, 9])\n",
    ">>> s1.symmetric_difference_update(s2)\n",
    ">>> s1\n",
    "set([8, 1, 4, 9])\n",
    "```"
   ]
  },
  {
   "cell_type": "code",
   "execution_count": null,
   "metadata": {
    "collapsed": false,
    "slideshow": {
     "slide_type": "fragment"
    }
   },
   "outputs": [],
   "source": [
    "s1 = set([4, 6, 9])\n",
    "s2 = set([1, 6, 8])\n",
    "s1^s2"
   ]
  },
  {
   "cell_type": "markdown",
   "metadata": {
    "slideshow": {
     "slide_type": "slide"
    }
   },
   "source": [
    "# Exclusive or\n",
    "\n",
    "## Exercises\n",
    "\n",
    "1. Show the correspondence between XOR and \"if and only if\" $\\leftrightarrow$.\n",
    "    * $p\\leftrightarrow q$ iff either both $p$ and $q$ are true or both $p$ and $q$ are false.    \n",
    "2. Program XOR yourself in Python using only $\\cap$, $\\cup$ and $\\setminus$.\n",
    "3. Program XOR yourself in Python using no set operations at all. Just use comprehensions and boolean operators.\n"
   ]
  },
  {
   "cell_type": "markdown",
   "metadata": {
    "collapsed": false,
    "slideshow": {
     "slide_type": "slide"
    }
   },
   "source": [
    "Question 1: \n",
    "![XOR](https://upload.wikimedia.org/wikipedia/commons/thumb/4/46/Venn0110.svg/220px-Venn0110.svg.png)    \n",
    "\n",
    "Als beide condities True zijn, zal de gezamelijke output False zijn. \n",
    "Eveneens als beide condities False zijn, zal de gezamelijke output ook False zijn. Dit correspondeert met XOR\n",
    "\n",
    "|XOR Table| |Output  |\n",
    "|---|\n",
    "|  A | B  |  |\n",
    "| 0  |0   | 0  |\n",
    "|  1 | 0  |  1 |\n",
    "|  0 |  1 |  1 |\n",
    "|   1|   1|  0 |\n",
    "\n",
    "\n",
    "|If and only if Table| |Output: |\n",
    "|---|\n",
    "|  P| Q  |  $p\\leftrightarrow q$|\n",
    "| T  |T  | T  |\n",
    "|  F | T |  F |\n",
    "|   T|  F|  F |\n",
    "|   F|   F|  T |"
   ]
  },
  {
   "cell_type": "code",
   "execution_count": 19,
   "metadata": {
    "collapsed": false,
    "slideshow": {
     "slide_type": "slide"
    }
   },
   "outputs": [
    {
     "data": {
      "text/plain": [
       "{1, 2, 3, 4, 5, 8, 9}"
      ]
     },
     "execution_count": 19,
     "metadata": {},
     "output_type": "execute_result"
    }
   ],
   "source": [
    "def XOR(A, B):\n",
    "    \n",
    "    #We willen de waardes die niet overeenkomen tussen de 2 sets\n",
    "    #Dit doen we door de alle intersecte waardes uit de gecombineerde (union) set te halen\n",
    "    \n",
    "    return A|B - A & B\n",
    "    \n",
    "\n",
    "XOR({1,2, 3, 8, 9},{2,1, 4, 5})"
   ]
  },
  {
   "cell_type": "code",
   "execution_count": 18,
   "metadata": {
    "collapsed": false
   },
   "outputs": [
    {
     "name": "stdout",
     "output_type": "stream",
     "text": [
      "set([8, 9, 3, 4, 5])\n"
     ]
    }
   ],
   "source": [
    "def XOR(A,B):\n",
    "    \n",
    "    #We willen de waardes die niet overeenkomen tussen de 2 sets\n",
    "    #Dit doen we door alle waardes uit een gezamelijke list die niet in A of B zitten te returnen\n",
    "    \n",
    "    return {i for i in A + B if i not in A or i not in B}\n",
    "\n",
    "\n",
    "print XOR([1,2, 3, 8, 9],[2,1, 4, 5])"
   ]
  },
  {
   "cell_type": "code",
   "execution_count": 1,
   "metadata": {
    "collapsed": false
   },
   "outputs": [
    {
     "name": "stdout",
     "output_type": "stream",
     "text": [
      "[NbConvertApp] Converting notebook Assignment_SetTheory.ipynb to slides\n",
      "[NbConvertApp] Writing 234979 bytes to Assignment_SetTheory.slides.html\n"
     ]
    }
   ],
   "source": [
    "!ipython nbconvert Assignment_SetTheory.ipynb --to slides --reveal-prefix \"http://maartenmarx.nl/reveal.js\""
   ]
  },
  {
   "cell_type": "code",
   "execution_count": null,
   "metadata": {
    "collapsed": true
   },
   "outputs": [],
   "source": []
  }
 ],
 "metadata": {
  "celltoolbar": "Slideshow",
  "kernelspec": {
   "display_name": "Python 2",
   "language": "python",
   "name": "python2"
  },
  "language_info": {
   "codemirror_mode": {
    "name": "ipython",
    "version": 2
   },
   "file_extension": ".py",
   "mimetype": "text/x-python",
   "name": "python",
   "nbconvert_exporter": "python",
   "pygments_lexer": "ipython2",
   "version": "2.7.11"
  }
 },
 "nbformat": 4,
 "nbformat_minor": 0
}
