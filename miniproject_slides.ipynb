{
 "cells": [
  {
   "cell_type": "markdown",
   "metadata": {
    "slideshow": {
     "slide_type": "slide"
    }
   },
   "source": [
    "# Miniproject: Cito Toets\n",
    "\n",
    "## Notebook made by  \n",
    "\n",
    "|** Name** | **Student id** | **email**|\n",
    "|:- |:-|:-|\n",
    "|Patrick Akil|10668411 |patrickakil@hotmail.com |\n",
    "| Michel Chau |10634266 |michel_chau@live.nl |\n",
    "| Pierre Pham |10359486 |phamkhoithanh@gmail.com |\n",
    "\n",
    "\n",
    "### Pledge (taken from [Coursera's Honor Code](https://www.coursera.org/about/terms/honorcode) )\n",
    "\n",
    "\n",
    "\n",
    "Put here a selfie with your photo where you hold a signed paper with the following text: (if this is team work, put two selfies here). The link must be to some place on the web, not to a local file. \n",
    "\n",
    "> My answers to homework, quizzes and exams will be my own work (except for assignments that explicitly permit collaboration).\n",
    "\n",
    ">I will not make solutions to homework, quizzes or exams available to anyone else. This includes both solutions written by me, as well as any official solutions provided by the course staff.\n",
    "\n",
    ">I will not engage in any other activities that will dishonestly improve my results or dishonestly improve/hurt the results of others.\n",
    "\n",
    "<img src='https://raw.githubusercontent.com/PieInTheSky/DS/master/image2.JPG'/ width=650 height=650>\n",
    "<img src='https://raw.githubusercontent.com/PieInTheSky/DS/master/image1.JPG'/ width=650 height=650>"
   ]
  },
  {
   "cell_type": "markdown",
   "metadata": {
    "slideshow": {
     "slide_type": "slide"
    }
   },
   "source": [
    "# Ethiciteit en cito scores\n",
    "\n",
    "* Patrick Akil - 10668411\n",
    "* Michel Chau - 10634266\n",
    "* Pierre Pham - 10359486"
   ]
  },
  {
   "cell_type": "markdown",
   "metadata": {
    "slideshow": {
     "slide_type": "slide"
    }
   },
   "source": [
    "## Abstract\n",
    "\n",
    "Er is gekeken naar het verband tussen de etniciteit binnen een regio en de gemiddelde cito-score van een regio. Met etniciteit wordt bedoeld het aantal allochtonen binnen een regio. Met behulp van gegevens van Centraal Bureau Statistiek kon bepaald worden hoeveel allochtonen binnen een regio wonen. Vervolgens is met de gegevens van het ministerie van Onderwijs de cito-scores bepaald. Door middel van een Pearson Correlatie is er berekend of er een verband is tussen de twee voorgenoemde factoren. Op basis van de resultaten van de Pearson Correlatie is het mogelijk om voorzichtig te zeggen dat zoals verwacht etniciteit tot een zekere mate een rol speelt in de gemiddelde cito score. De kanttekening die hierbij wel moet worden gemaakt is dat dit wel verschilt per bevolkingsgroep en niet over de hele linie gelijk op gaat."
   ]
  },
  {
   "cell_type": "markdown",
   "metadata": {
    "slideshow": {
     "slide_type": "slide"
    }
   },
   "source": [
    "## Introductie\n",
    "\n",
    "In het verleden zijn verschillende onderzoeken geweest die uitwezen dat kinderen met een allochtone achtergrond een taalachterstand hebben. Zij beheersen de taalvaardigheid Nederlands minder goed dan de autochtone kinderen. Een taalachterstand kan ervoor zorgen dat kinderen minder goed leren, dit kan uiteindelijk negatieve gevolgen hebben voor hun schoolprestaties. \n",
    "\n",
    "Uit het jaarrapport integratie van het Sociaal en Cultureel Planbureau enkele jaren geleden bleek ook dat allochtonen met dezelfde positie als autochtonen slechter scoren.\n",
    "\n",
    "Peter Tellegen heeft in 2009 onderzoek gedaan naar het verband tussen de NIO-toets score en de etnische achtergrond van basisschoolleerlingen. Dit onderzoek wees inderdaad uit de leerlingen met allochtone achtergrond, zowel westers als niet-westers, daadwerkelijk lager scoorde op de NIO-toets dan de autochtone leerlingen. Vanwege dit onderzoek willen wij gaan kijken of dit ook geld voor de CITO toets. Zowel de CITO toets als de NIO-toets wordt op de basisschool afgenomen bij leerlingen om als het ware de mate van intelligentie te meten. \n",
    "\n",
    "Wij willen kijken of etniciteit binnen een regio invloed heeft op de gemiddelde cito-score van een regio. Met etniciteit binnen een regio bedoelen wij het aantal allochtonen binnen een regio. Als er meer allochtonen in een bepaalde regio wonen, zal de cito-score van een regio daardoor ook lager worden?\n",
    "\n",
    "#### Onderzoeksvraag: \"In hoeverre heeft etniciteit binnen een regio invloed op de gemiddelde cito-score van een regio?\"\n",
    "\n",
    "Wij verwachten van te voren dat er wel een sterk negatief verband is tussen het aantal allochtonen binnen een regio en de gemiddeld cito-score van een regio. Dus hoe meer allochtonen er binnen een regio leven, hoe lager de gemiddelde cito-score van een regio zal zijn. Wij verwachten dit omdat allochtonen over het algemeen lager scoren dan autochtonen. Meer allochtonen betekent ook dat het meer invloed heeft op de cito-score. Veel allochtonen die lager scoren brengt het gemiddelde omlaag."
   ]
  },
  {
   "cell_type": "markdown",
   "metadata": {
    "slideshow": {
     "slide_type": "slide"
    }
   },
   "source": [
    "## Gerelateerd werk\n",
    "\n",
    "In de drie onderstaande artikelen wordt bevonden dat allochtone leerlingen minder presteren op school dan de autochtone leerlingen.\n",
    "Zij hebben meestal een taalachterstand, zij beheersen de Nederlandse taal minder goed dan hun autochtone klasgenoten.\n",
    "\n",
    "<a href=\"https://www.researchgate.net/profile/Geert_Driessen/publication/235964301_De_taalvaardigheid_Nederlands_van_allochtone_en_autochtone_leerlingen._De_ontwikkeling_in_het_basisonderwijs_in_kaart_gebracht/links/00b49514de7854c615000000.pdf\">Driessen, G. (1996). De taalvaardigheid Nederlands van allochtone en autochtone leerlingen. De ontwikkeling in het basisonderwijs in kaart gebracht. Grammar/TIT-Tijdschrzﬁ voor Taalwetenschap, 5, 31-40.</a>\n",
    "\n",
    "<a href=\"http://www.cbs.nl/NR/rdonlyres/05DC613E-1383-47C5-A96A-0D38F9A4B1A1/0/index1222.pdf\">Jol, C. (2001). Ongelijke schoolsuccessen. CBS Index, 10, 5.</a>\n",
    "\n",
    "<a href=\"https://books.google.nl/books?hl=nl&lr=&id=7aqK1St1Dt4C&oi=fnd&pg=PA33&dq=allochtonen+scoren+slechter&ots=RFMOqO3ggA&sig=U7FwNvSLQiHcTmedmeGunTY40es#v=onepage&q=allochtonen%20scoren%20slechter&f=false\">Opdenakker, M. C., & Hermans, D. (2006). Allochtonen in en doorheen het onderwijs: cijfers, oorzaken en verklaringen. Onderwijs onderweg in de immigratiesamenleving, 33.</a>\n",
    "\n",
    "In het artikel hieronder werd gekeken naar het verband tussen het leesgedrag en de cito-score van de leerlingen.\n",
    "Er werd ook onder andere gekeken naar de allochtone afkomst van leerlingen.\n",
    "\n",
    "<a href=\"http://taal100.nl/uploads/Taal100/Artikelen/Kortlever_Lemmens.pdf\">Kortlever, D. M., & Lemmens, J. S. (2012). Relaties tussen leesgedrag en Cito-scores van kinderen. Tijdschrift voor communicatiewetenschap, 40(1), 87.</a>\n",
    "\n",
    "In het volgende artikel werd gekeken naar de NIO toets en de allochtone achtergrond van leerlingen.\n",
    "Uit het artikel bleek dat kinderen met een allochtone leerlingen lager scoorden dan de autochtone leerlingen.\n",
    "\n",
    "<a href=\"www.testresearch.nl/nio/nioallochtonen.doc\">Tellegen, P. (2009). De NIO en allochtone achtergrond. Groningen: www.testresearch.nl.</a>\n"
   ]
  },
  {
   "cell_type": "markdown",
   "metadata": {
    "slideshow": {
     "slide_type": "slide"
    }
   },
   "source": [
    "## Methodologie\n",
    "\n",
    "Voor het vergelijken van de cito-scores met de etniciteit per regio hebben we een databestand nodig waaruit we de gegevens kunnen halen. Er is echter geen dataset beschikbaar waarin beide gegevens per regio staan. We gebruiken daarom twee datasets die we met elkaar zullen vergelijken.\n",
    "\n",
    "De cito-scores per regio vinden we op de website van RTL Nieuws. RTL Nieuws heeft deze van het ministerie van Onderwijs ontvangen en beschikbaar gesteld op hun website. In het bestand staan gegevens van de onderwijsinspectie over de cito-scores van verschillende scholen in de schooljaren van 2011 - 2012, 2012 - 2013 en 2013 - 2014. De gemiddelde scores van de drie schooljaren zijn vervolgens verwerkt met enige correctie en geeft als uitkomst de quasi cito-score. Deze score zijn per basisschool geaggregeerd, maar per basisschool is ook beschikbaar in welke plaats en provincie deze zich bevinden, waardoor we dit bestand kunnen gebruiken binnen ons onderzoek.\n",
    "\n",
    "De etniciteit per regio is voor verschillende jaren beschikbaar gesteld bij het CBS. We zullen het databestand met de gegevens van het jaar 2013 en 2014 gebruiken en deze vergelijken met de quasi cito-scores. Ondanks dat de quasi cito-score een gemiddelde score is van de beschreven schooljaren zal een vergelijking met het jaar 2013 en 2014 relevant blijven aangezien we geen grote veranderingen(toenames of afnamens) binnen een jaar verwachten wat betreft de omvang van een bepaalde etniciteit binnen een regio.\n",
    "\n",
    "Binnen het databestand staan verschillende gegevens geaggregeerd per regio. Weer binnen deze gegevens vinden we ook bevolkingsgroepen op basis van hun land van herkomst(Voor verdere toelichting zie Appendix). Op basis hiervan zal de etniciteit worden bepaald. Het CBS maakt onderscheid tussen de volgende landen van herkomst :\n",
    "\n",
    "•\tMaroko\n",
    "\n",
    "•\tTurkije\n",
    "\n",
    "•\tSuriname\n",
    "\n",
    "•\t(Voormalige) Ned. Antillen en Aruba\n",
    "\n",
    "Ook zijn er categorieën van allochtonen, autochtonen, westerse en niet westerse allochtonen. Ook deze gegevens zullen we gebruiken binnen ons onderzoek.\n",
    "\n",
    "In het databestand zien we dat het CBS 7 kolomnamen gebruikt om de kolommen te beschrijven. Dit vonden we onhandig bij het inlezen van het bestand. Om het inlezen efficiënter te maken hebben we dit opgeschoond en per kolom 1 kolomnaam gebruikt. Ook werd er onderscheid gemaakt tussen absolute aantalen en percentuele aantallen, binnen het onderzoek zullen we alleen de percentuele waardes gebruiken.\n",
    "\n",
    "Nu we de benodigde bestanden hebben, kunnen we de gegevens met elkaar vergelijken. We zullen de etnische groeperingen met de quasi-cito scores vergelijken op provinciaal niveau."
   ]
  },
  {
   "cell_type": "markdown",
   "metadata": {
    "collapsed": true,
    "slideshow": {
     "slide_type": "slide"
    }
   },
   "source": [
    "## Evaluatie\n",
    "\n",
    "Als we kijken naar de populatie autochtonen en allochtonen verwachten we op basis van het onderzoek van Driessen; Opdenakker en Hermans; Tellegen dat allochtonen leerlingen slechter zullen gaan scoren op de cito toets. In dit onderzoek is op de data van het CBS is een Pearson Correlation uitgevoerd. Uit deze Pearson Correlation blijkt dat er sprake is van een postief verband tussen autochtonen leerlingen en een negatief verband is tussen allochtonen leerlingen bij de cito scores. \n",
    "\n",
    "Hieronder zien we de quasi cito-scores vergeleken met de gegevens over de bevolkingsgroepen in 2013. In de Appendix staan de vergelijkingen van de quasi cito-scores met de gegevens van het jaar 2014"
   ]
  },
  {
   "cell_type": "code",
   "execution_count": 11,
   "metadata": {
    "collapsed": false,
    "slideshow": {
     "slide_type": "slide"
    }
   },
   "outputs": [
    {
     "name": "stdout",
     "output_type": "stream",
     "text": [
      "Pearson Correlation (R)\n"
     ]
    },
    {
     "data": {
      "text/html": [
       "<div style=\"max-height:1000px;max-width:1500px;overflow:auto;\">\n",
       "<table border=\"1\" class=\"dataframe\">\n",
       "  <thead>\n",
       "    <tr style=\"text-align: right;\">\n",
       "      <th></th>\n",
       "      <th>quasicito</th>\n",
       "      <th>Autochtonen %</th>\n",
       "    </tr>\n",
       "  </thead>\n",
       "  <tbody>\n",
       "    <tr>\n",
       "      <th>quasicito</th>\n",
       "      <td> 1.000000</td>\n",
       "      <td> 0.238895</td>\n",
       "    </tr>\n",
       "    <tr>\n",
       "      <th>Autochtonen %</th>\n",
       "      <td> 0.238895</td>\n",
       "      <td> 1.000000</td>\n",
       "    </tr>\n",
       "  </tbody>\n",
       "</table>\n",
       "</div>"
      ],
      "text/plain": [
       "               quasicito  Autochtonen %\n",
       "quasicito       1.000000       0.238895\n",
       "Autochtonen %   0.238895       1.000000"
      ]
     },
     "execution_count": 11,
     "metadata": {},
     "output_type": "execute_result"
    },
    {
     "data": {
      "image/png": "[encoded data removed]",
      "text/plain": [
       "<matplotlib.figure.Figure at 0x10d331050>"
      ]
     },
     "metadata": {},
     "output_type": "display_data"
    }
   ],
   "source": [
    "year13 = 2013\n",
    "column = 'Autochtonen %'\n",
    "correlation(year13, column)"
   ]
  },
  {
   "cell_type": "code",
   "execution_count": 12,
   "metadata": {
    "collapsed": false,
    "slideshow": {
     "slide_type": "slide"
    }
   },
   "outputs": [
    {
     "name": "stdout",
     "output_type": "stream",
     "text": [
      "Pearson Correlation (R)\n"
     ]
    },
    {
     "data": {
      "text/html": [
       "<div style=\"max-height:1000px;max-width:1500px;overflow:auto;\">\n",
       "<table border=\"1\" class=\"dataframe\">\n",
       "  <thead>\n",
       "    <tr style=\"text-align: right;\">\n",
       "      <th></th>\n",
       "      <th>quasicito</th>\n",
       "      <th>Totaal allochtonen %</th>\n",
       "    </tr>\n",
       "  </thead>\n",
       "  <tbody>\n",
       "    <tr>\n",
       "      <th>quasicito</th>\n",
       "      <td> 1.000000</td>\n",
       "      <td>-0.238895</td>\n",
       "    </tr>\n",
       "    <tr>\n",
       "      <th>Totaal allochtonen %</th>\n",
       "      <td>-0.238895</td>\n",
       "      <td> 1.000000</td>\n",
       "    </tr>\n",
       "  </tbody>\n",
       "</table>\n",
       "</div>"
      ],
      "text/plain": [
       "                      quasicito  Totaal allochtonen %\n",
       "quasicito              1.000000             -0.238895\n",
       "Totaal allochtonen %  -0.238895              1.000000"
      ]
     },
     "execution_count": 12,
     "metadata": {},
     "output_type": "execute_result"
    },
    {
     "data": {
      "image/png": "[encoded data removed]",
      "text/plain": [
       "<matplotlib.figure.Figure at 0x10d47ce10>"
      ]
     },
     "metadata": {},
     "output_type": "display_data"
    }
   ],
   "source": [
    "column = 'Totaal allochtonen %'\n",
    "correlation(year13, column)"
   ]
  },
  {
   "cell_type": "markdown",
   "metadata": {
    "slideshow": {
     "slide_type": "slide"
    }
   },
   "source": [
    "Hoewel er uit de Pearson Correlatie een verband is te zien, zijn deze niet significant genoeg om tot een conclusie te komen die de resultaten van het gerelateerde werk te bevestigen of tegen te spreken. Hierbij is een significantie niveau van 0.5 gehanteerd.\n",
    "\n",
    "Er is vervolgens gekeken naar de individuele etnische bevolkingsgroepen om daarbinnen een mogelijk significant verband  te ontdekken. Uit deze bevolkingsgroepen waren twee bevolkingsgroepen te zien die een sterk significant verband aantoonden. De eerste bevolkingsgroep is de Voormalige Nederlandse Antillen en Aruba waarbij een negatief verband van 0.65 is gemeten. De tweede bevolkingroep is Suriname waarbij ook een negatief verband van 0.67 uit de Pearson Correlatie is aangetoond \n",
    "\n",
    "(zie Appendix voor niet significante bevolkingsgroepen)."
   ]
  },
  {
   "cell_type": "code",
   "execution_count": 13,
   "metadata": {
    "collapsed": false,
    "scrolled": true,
    "slideshow": {
     "slide_type": "slide"
    }
   },
   "outputs": [
    {
     "name": "stdout",
     "output_type": "stream",
     "text": [
      "Pearson Correlation (R)\n"
     ]
    },
    {
     "data": {
      "text/html": [
       "<div style=\"max-height:1000px;max-width:1500px;overflow:auto;\">\n",
       "<table border=\"1\" class=\"dataframe\">\n",
       "  <thead>\n",
       "    <tr style=\"text-align: right;\">\n",
       "      <th></th>\n",
       "      <th>quasicito</th>\n",
       "      <th>(Voormalige) Ned. Antillen en Aruba %</th>\n",
       "    </tr>\n",
       "  </thead>\n",
       "  <tbody>\n",
       "    <tr>\n",
       "      <th>quasicito</th>\n",
       "      <td> 1.000000</td>\n",
       "      <td>-0.647773</td>\n",
       "    </tr>\n",
       "    <tr>\n",
       "      <th>(Voormalige) Ned. Antillen en Aruba %</th>\n",
       "      <td>-0.647773</td>\n",
       "      <td> 1.000000</td>\n",
       "    </tr>\n",
       "  </tbody>\n",
       "</table>\n",
       "</div>"
      ],
      "text/plain": [
       "                                       quasicito  \\\n",
       "quasicito                               1.000000   \n",
       "(Voormalige) Ned. Antillen en Aruba %  -0.647773   \n",
       "\n",
       "                                       (Voormalige) Ned. Antillen en Aruba %  \n",
       "quasicito                                                          -0.647773  \n",
       "(Voormalige) Ned. Antillen en Aruba %                               1.000000  "
      ]
     },
     "execution_count": 13,
     "metadata": {},
     "output_type": "execute_result"
    },
    {
     "data": {
      "image/png": "[encoded data removed]",
      "text/plain": [
       "<matplotlib.figure.Figure at 0x10d1c1fd0>"
      ]
     },
     "metadata": {},
     "output_type": "display_data"
    }
   ],
   "source": [
    "column = '(Voormalige) Ned. Antillen en Aruba %'\n",
    "correlation(year13, column)"
   ]
  },
  {
   "cell_type": "code",
   "execution_count": 14,
   "metadata": {
    "collapsed": false,
    "slideshow": {
     "slide_type": "slide"
    }
   },
   "outputs": [
    {
     "name": "stdout",
     "output_type": "stream",
     "text": [
      "Pearson Correlation (R)\n"
     ]
    },
    {
     "data": {
      "text/html": [
       "<div style=\"max-height:1000px;max-width:1500px;overflow:auto;\">\n",
       "<table border=\"1\" class=\"dataframe\">\n",
       "  <thead>\n",
       "    <tr style=\"text-align: right;\">\n",
       "      <th></th>\n",
       "      <th>quasicito</th>\n",
       "      <th>Suriname %</th>\n",
       "    </tr>\n",
       "  </thead>\n",
       "  <tbody>\n",
       "    <tr>\n",
       "      <th>quasicito</th>\n",
       "      <td> 1.000000</td>\n",
       "      <td>-0.668096</td>\n",
       "    </tr>\n",
       "    <tr>\n",
       "      <th>Suriname %</th>\n",
       "      <td>-0.668096</td>\n",
       "      <td> 1.000000</td>\n",
       "    </tr>\n",
       "  </tbody>\n",
       "</table>\n",
       "</div>"
      ],
      "text/plain": [
       "            quasicito  Suriname %\n",
       "quasicito    1.000000   -0.668096\n",
       "Suriname %  -0.668096    1.000000"
      ]
     },
     "execution_count": 14,
     "metadata": {},
     "output_type": "execute_result"
    },
    {
     "data": {
      "image/png": "[encoded data removed]",
      "text/plain": [
       "<matplotlib.figure.Figure at 0x10d48bf10>"
      ]
     },
     "metadata": {},
     "output_type": "display_data"
    }
   ],
   "source": [
    "column = 'Suriname %'\n",
    "correlation(year13, column)"
   ]
  },
  {
   "cell_type": "markdown",
   "metadata": {
    "slideshow": {
     "slide_type": "slide"
    }
   },
   "source": [
    "Uit deze cijfers blijkt dat allochtonen leerlingen lager scoren dan de autochtonen medeleerlingen hoewel dit niet significant is. Als we echter naar de bevolkingsgroepen individueel kijken is te zien dat de Voormalige Nederlandse Antillen en Aruba en Suriname wel een significant negatief verband aantonen uit de Pearson Correlatie."
   ]
  },
  {
   "cell_type": "markdown",
   "metadata": {
    "slideshow": {
     "slide_type": "slide"
    }
   },
   "source": [
    "## Conclusie \n",
    "\n",
    "Op basis van de resultaten van de Pearson Correlatie is het mogelijk om voorzichtig te zeggen dat zoals verwacht etniciteit tot een zekere mate een rol speelt in de gemiddelde cito score. De kanttekening die hierbij wel moet worden gemaakt is dat dit wel verschilt per bevolkingsgroep en niet over de hele linie gelijk op gaat. Het zou hierbij beter zijn geweest om op plaatselijk niveau verschillen te ontdekken en deze met een zekere significantie niveau aan te tonen. Echter is gebleken uit deze plaatselijke analyse dat er te weinig significante verschillen te zien zijn om tot een nuttig uitsluitsel te komen."
   ]
  },
  {
   "cell_type": "markdown",
   "metadata": {
    "slideshow": {
     "slide_type": "slide"
    }
   },
   "source": [
    "## Appendix"
   ]
  },
  {
   "cell_type": "code",
   "execution_count": 1,
   "metadata": {
    "collapsed": false,
    "slideshow": {
     "slide_type": "subslide"
    }
   },
   "outputs": [],
   "source": [
    "import pandas as pd\n",
    "import numpy as np\n",
    "%matplotlib inline\n",
    "\n",
    "cbs = pd.read_excel(\"https://github.com/PieInTheSky/DS/blob/master/Data2.xlsx?raw=true\")\n",
    "cito = pd.read_excel(\"https://github.com/PieInTheSky/DS/blob/master/scholenoverzicht_0.xls?raw=true\")\n",
    "\n",
    "def correlation(year, column):\n",
    "    \n",
    "    cbs_data = cbs[cbs.Perioden == year].fillna(0)\n",
    "    if year == 2013:\n",
    "        cito_data= cito[cito.TOETS_2013 =='cito']\n",
    "    elif year == 2014:\n",
    "        cito_data= cito[cito.TOETS_2014 =='cito']\n",
    "\n",
    "    compdata = pd.pivot_table(cbs_data, index = [\"Regionale kerncijfers Nederland\"],\n",
    "                              values = [column], dropna = True)\n",
    "\n",
    "    cito_prov = pd.pivot_table(cito_data,index=[\"provincie\"], values=['quasicito'], dropna = True)\n",
    "\n",
    "    result = pd.concat([cito_prov, compdata], axis=1, join='inner')\n",
    "\n",
    "    graph = result.plot(kind='scatter', marker='s', figsize=(7, 5), x = 'quasicito',\n",
    "                        y = column, title= 'Ethnicity vs Cito score '+ str(year))\n",
    "\n",
    "    print 'Pearson Correlation (R)'\n",
    "    table = result.corr(method = 'pearson')\n",
    "    \n",
    "    return table"
   ]
  },
  {
   "cell_type": "code",
   "execution_count": 3,
   "metadata": {
    "collapsed": false,
    "slideshow": {
     "slide_type": "slide"
    }
   },
   "outputs": [
    {
     "name": "stdout",
     "output_type": "stream",
     "text": [
      "Pearson Correlation (R)\n"
     ]
    },
    {
     "data": {
      "text/html": [
       "<div style=\"max-height:1000px;max-width:1500px;overflow:auto;\">\n",
       "<table border=\"1\" class=\"dataframe\">\n",
       "  <thead>\n",
       "    <tr style=\"text-align: right;\">\n",
       "      <th></th>\n",
       "      <th>quasicito</th>\n",
       "      <th>Autochtonen %</th>\n",
       "    </tr>\n",
       "  </thead>\n",
       "  <tbody>\n",
       "    <tr>\n",
       "      <th>quasicito</th>\n",
       "      <td> 1.000000</td>\n",
       "      <td> 0.225019</td>\n",
       "    </tr>\n",
       "    <tr>\n",
       "      <th>Autochtonen %</th>\n",
       "      <td> 0.225019</td>\n",
       "      <td> 1.000000</td>\n",
       "    </tr>\n",
       "  </tbody>\n",
       "</table>\n",
       "</div>"
      ],
      "text/plain": [
       "               quasicito  Autochtonen %\n",
       "quasicito       1.000000       0.225019\n",
       "Autochtonen %   0.225019       1.000000"
      ]
     },
     "execution_count": 3,
     "metadata": {},
     "output_type": "execute_result"
    },
    {
     "data": {
      "image/png": "[encoded data removed]",
      "text/plain": [
       "<matplotlib.figure.Figure at 0x104ccf190>"
      ]
     },
     "metadata": {},
     "output_type": "display_data"
    }
   ],
   "source": [
    "year14 = 2014\n",
    "column = 'Autochtonen %'\n",
    "correlation(year14, column)"
   ]
  },
  {
   "cell_type": "code",
   "execution_count": 4,
   "metadata": {
    "collapsed": false,
    "slideshow": {
     "slide_type": "slide"
    }
   },
   "outputs": [
    {
     "name": "stdout",
     "output_type": "stream",
     "text": [
      "Pearson Correlation (R)\n"
     ]
    },
    {
     "data": {
      "text/html": [
       "<div style=\"max-height:1000px;max-width:1500px;overflow:auto;\">\n",
       "<table border=\"1\" class=\"dataframe\">\n",
       "  <thead>\n",
       "    <tr style=\"text-align: right;\">\n",
       "      <th></th>\n",
       "      <th>quasicito</th>\n",
       "      <th>Totaal allochtonen %</th>\n",
       "    </tr>\n",
       "  </thead>\n",
       "  <tbody>\n",
       "    <tr>\n",
       "      <th>quasicito</th>\n",
       "      <td> 1.000000</td>\n",
       "      <td>-0.225019</td>\n",
       "    </tr>\n",
       "    <tr>\n",
       "      <th>Totaal allochtonen %</th>\n",
       "      <td>-0.225019</td>\n",
       "      <td> 1.000000</td>\n",
       "    </tr>\n",
       "  </tbody>\n",
       "</table>\n",
       "</div>"
      ],
      "text/plain": [
       "                      quasicito  Totaal allochtonen %\n",
       "quasicito              1.000000             -0.225019\n",
       "Totaal allochtonen %  -0.225019              1.000000"
      ]
     },
     "execution_count": 4,
     "metadata": {},
     "output_type": "execute_result"
    },
    {
     "data": {
      "image/png": "[encoded data removed]",
      "text/plain": [
       "<matplotlib.figure.Figure at 0x103e8da50>"
      ]
     },
     "metadata": {},
     "output_type": "display_data"
    }
   ],
   "source": [
    "column = 'Totaal allochtonen %'\n",
    "correlation(year14, column)"
   ]
  },
  {
   "cell_type": "code",
   "execution_count": 5,
   "metadata": {
    "collapsed": false,
    "slideshow": {
     "slide_type": "slide"
    }
   },
   "outputs": [
    {
     "name": "stdout",
     "output_type": "stream",
     "text": [
      "Pearson Correlation (R)\n"
     ]
    },
    {
     "data": {
      "text/html": [
       "<div style=\"max-height:1000px;max-width:1500px;overflow:auto;\">\n",
       "<table border=\"1\" class=\"dataframe\">\n",
       "  <thead>\n",
       "    <tr style=\"text-align: right;\">\n",
       "      <th></th>\n",
       "      <th>quasicito</th>\n",
       "      <th>(Voormalige) Ned. Antillen en Aruba %</th>\n",
       "    </tr>\n",
       "  </thead>\n",
       "  <tbody>\n",
       "    <tr>\n",
       "      <th>quasicito</th>\n",
       "      <td> 1.000000</td>\n",
       "      <td>-0.641064</td>\n",
       "    </tr>\n",
       "    <tr>\n",
       "      <th>(Voormalige) Ned. Antillen en Aruba %</th>\n",
       "      <td>-0.641064</td>\n",
       "      <td> 1.000000</td>\n",
       "    </tr>\n",
       "  </tbody>\n",
       "</table>\n",
       "</div>"
      ],
      "text/plain": [
       "                                       quasicito  \\\n",
       "quasicito                               1.000000   \n",
       "(Voormalige) Ned. Antillen en Aruba %  -0.641064   \n",
       "\n",
       "                                       (Voormalige) Ned. Antillen en Aruba %  \n",
       "quasicito                                                          -0.641064  \n",
       "(Voormalige) Ned. Antillen en Aruba %                               1.000000  "
      ]
     },
     "execution_count": 5,
     "metadata": {},
     "output_type": "execute_result"
    },
    {
     "data": {
      "image/png": "[encoded data removed]",
      "text/plain": [
       "<matplotlib.figure.Figure at 0x10ca93d10>"
      ]
     },
     "metadata": {},
     "output_type": "display_data"
    }
   ],
   "source": [
    "column = '(Voormalige) Ned. Antillen en Aruba %'\n",
    "correlation(year14, column)"
   ]
  },
  {
   "cell_type": "code",
   "execution_count": 6,
   "metadata": {
    "collapsed": false,
    "slideshow": {
     "slide_type": "slide"
    }
   },
   "outputs": [
    {
     "name": "stdout",
     "output_type": "stream",
     "text": [
      "Pearson Correlation (R)\n"
     ]
    },
    {
     "data": {
      "text/html": [
       "<div style=\"max-height:1000px;max-width:1500px;overflow:auto;\">\n",
       "<table border=\"1\" class=\"dataframe\">\n",
       "  <thead>\n",
       "    <tr style=\"text-align: right;\">\n",
       "      <th></th>\n",
       "      <th>quasicito</th>\n",
       "      <th>Suriname %</th>\n",
       "    </tr>\n",
       "  </thead>\n",
       "  <tbody>\n",
       "    <tr>\n",
       "      <th>quasicito</th>\n",
       "      <td> 1.000000</td>\n",
       "      <td>-0.666479</td>\n",
       "    </tr>\n",
       "    <tr>\n",
       "      <th>Suriname %</th>\n",
       "      <td>-0.666479</td>\n",
       "      <td> 1.000000</td>\n",
       "    </tr>\n",
       "  </tbody>\n",
       "</table>\n",
       "</div>"
      ],
      "text/plain": [
       "            quasicito  Suriname %\n",
       "quasicito    1.000000   -0.666479\n",
       "Suriname %  -0.666479    1.000000"
      ]
     },
     "execution_count": 6,
     "metadata": {},
     "output_type": "execute_result"
    },
    {
     "data": {
      "image/png": "[encoded data removed]",
      "text/plain": [
       "<matplotlib.figure.Figure at 0x10cc04ed0>"
      ]
     },
     "metadata": {},
     "output_type": "display_data"
    }
   ],
   "source": [
    "column = 'Suriname %'\n",
    "correlation(year14, column)"
   ]
  },
  {
   "cell_type": "markdown",
   "metadata": {
    "slideshow": {
     "slide_type": "slide"
    }
   },
   "source": [
    "## Niet significante bevolkingsgroepen in het jaar 2013"
   ]
  },
  {
   "cell_type": "code",
   "execution_count": 7,
   "metadata": {
    "collapsed": false,
    "slideshow": {
     "slide_type": "slide"
    }
   },
   "outputs": [
    {
     "name": "stdout",
     "output_type": "stream",
     "text": [
      "Pearson Correlation (R)\n"
     ]
    },
    {
     "data": {
      "text/html": [
       "<div style=\"max-height:1000px;max-width:1500px;overflow:auto;\">\n",
       "<table border=\"1\" class=\"dataframe\">\n",
       "  <thead>\n",
       "    <tr style=\"text-align: right;\">\n",
       "      <th></th>\n",
       "      <th>quasicito</th>\n",
       "      <th>Westerse allochtonen %</th>\n",
       "    </tr>\n",
       "  </thead>\n",
       "  <tbody>\n",
       "    <tr>\n",
       "      <th>quasicito</th>\n",
       "      <td> 1.000000</td>\n",
       "      <td> 0.278049</td>\n",
       "    </tr>\n",
       "    <tr>\n",
       "      <th>Westerse allochtonen %</th>\n",
       "      <td> 0.278049</td>\n",
       "      <td> 1.000000</td>\n",
       "    </tr>\n",
       "  </tbody>\n",
       "</table>\n",
       "</div>"
      ],
      "text/plain": [
       "                        quasicito  Westerse allochtonen %\n",
       "quasicito                1.000000                0.278049\n",
       "Westerse allochtonen %   0.278049                1.000000"
      ]
     },
     "execution_count": 7,
     "metadata": {},
     "output_type": "execute_result"
    },
    {
     "data": {
      "image/png": "[encoded data removed]",
      "text/plain": [
       "<matplotlib.figure.Figure at 0x10cd7ac10>"
      ]
     },
     "metadata": {},
     "output_type": "display_data"
    }
   ],
   "source": [
    "year13 = 2013\n",
    "column = 'Westerse allochtonen %'\n",
    "correlation(year13, column)"
   ]
  },
  {
   "cell_type": "code",
   "execution_count": 8,
   "metadata": {
    "collapsed": false,
    "slideshow": {
     "slide_type": "slide"
    }
   },
   "outputs": [
    {
     "name": "stdout",
     "output_type": "stream",
     "text": [
      "Pearson Correlation (R)\n"
     ]
    },
    {
     "data": {
      "text/html": [
       "<div style=\"max-height:1000px;max-width:1500px;overflow:auto;\">\n",
       "<table border=\"1\" class=\"dataframe\">\n",
       "  <thead>\n",
       "    <tr style=\"text-align: right;\">\n",
       "      <th></th>\n",
       "      <th>quasicito</th>\n",
       "      <th>Totaal niet-westerse allochtonen %</th>\n",
       "    </tr>\n",
       "  </thead>\n",
       "  <tbody>\n",
       "    <tr>\n",
       "      <th>quasicito</th>\n",
       "      <td> 1.000000</td>\n",
       "      <td>-0.414858</td>\n",
       "    </tr>\n",
       "    <tr>\n",
       "      <th>Totaal niet-westerse allochtonen %</th>\n",
       "      <td>-0.414858</td>\n",
       "      <td> 1.000000</td>\n",
       "    </tr>\n",
       "  </tbody>\n",
       "</table>\n",
       "</div>"
      ],
      "text/plain": [
       "                                    quasicito  \\\n",
       "quasicito                            1.000000   \n",
       "Totaal niet-westerse allochtonen %  -0.414858   \n",
       "\n",
       "                                    Totaal niet-westerse allochtonen %  \n",
       "quasicito                                                    -0.414858  \n",
       "Totaal niet-westerse allochtonen %                            1.000000  "
      ]
     },
     "execution_count": 8,
     "metadata": {},
     "output_type": "execute_result"
    },
    {
     "data": {
      "image/png": "[encoded data removed]",
      "text/plain": [
       "<matplotlib.figure.Figure at 0x10ced7310>"
      ]
     },
     "metadata": {},
     "output_type": "display_data"
    }
   ],
   "source": [
    "column = 'Totaal niet-westerse allochtonen %'\n",
    "correlation(year13, column)"
   ]
  },
  {
   "cell_type": "code",
   "execution_count": 9,
   "metadata": {
    "collapsed": false,
    "slideshow": {
     "slide_type": "slide"
    }
   },
   "outputs": [
    {
     "name": "stdout",
     "output_type": "stream",
     "text": [
      "Pearson Correlation (R)\n"
     ]
    },
    {
     "data": {
      "text/html": [
       "<div style=\"max-height:1000px;max-width:1500px;overflow:auto;\">\n",
       "<table border=\"1\" class=\"dataframe\">\n",
       "  <thead>\n",
       "    <tr style=\"text-align: right;\">\n",
       "      <th></th>\n",
       "      <th>quasicito</th>\n",
       "      <th>Marokko %</th>\n",
       "    </tr>\n",
       "  </thead>\n",
       "  <tbody>\n",
       "    <tr>\n",
       "      <th>quasicito</th>\n",
       "      <td> 1.000000</td>\n",
       "      <td> 0.076966</td>\n",
       "    </tr>\n",
       "    <tr>\n",
       "      <th>Marokko %</th>\n",
       "      <td> 0.076966</td>\n",
       "      <td> 1.000000</td>\n",
       "    </tr>\n",
       "  </tbody>\n",
       "</table>\n",
       "</div>"
      ],
      "text/plain": [
       "           quasicito  Marokko %\n",
       "quasicito   1.000000   0.076966\n",
       "Marokko %   0.076966   1.000000"
      ]
     },
     "execution_count": 9,
     "metadata": {},
     "output_type": "execute_result"
    },
    {
     "data": {
      "image/png": "[encoded data removed]",
      "text/plain": [
       "<matplotlib.figure.Figure at 0x10d058b50>"
      ]
     },
     "metadata": {},
     "output_type": "display_data"
    }
   ],
   "source": [
    "column = 'Marokko %'\n",
    "correlation(year13, column)"
   ]
  },
  {
   "cell_type": "code",
   "execution_count": 10,
   "metadata": {
    "collapsed": false,
    "slideshow": {
     "slide_type": "slide"
    }
   },
   "outputs": [
    {
     "name": "stdout",
     "output_type": "stream",
     "text": [
      "Pearson Correlation (R)\n"
     ]
    },
    {
     "data": {
      "text/html": [
       "<div style=\"max-height:1000px;max-width:1500px;overflow:auto;\">\n",
       "<table border=\"1\" class=\"dataframe\">\n",
       "  <thead>\n",
       "    <tr style=\"text-align: right;\">\n",
       "      <th></th>\n",
       "      <th>quasicito</th>\n",
       "      <th>Turkije %</th>\n",
       "    </tr>\n",
       "  </thead>\n",
       "  <tbody>\n",
       "    <tr>\n",
       "      <th>quasicito</th>\n",
       "      <td> 1.000000</td>\n",
       "      <td>-0.036747</td>\n",
       "    </tr>\n",
       "    <tr>\n",
       "      <th>Turkije %</th>\n",
       "      <td>-0.036747</td>\n",
       "      <td> 1.000000</td>\n",
       "    </tr>\n",
       "  </tbody>\n",
       "</table>\n",
       "</div>"
      ],
      "text/plain": [
       "           quasicito  Turkije %\n",
       "quasicito   1.000000  -0.036747\n",
       "Turkije %  -0.036747   1.000000"
      ]
     },
     "execution_count": 10,
     "metadata": {},
     "output_type": "execute_result"
    },
    {
     "data": {
      "image/png": "[encoded data removed]",
      "text/plain": [
       "<matplotlib.figure.Figure at 0x10d17b450>"
      ]
     },
     "metadata": {},
     "output_type": "display_data"
    }
   ],
   "source": [
    "column = 'Turkije %'\n",
    "correlation(year13, column)"
   ]
  },
  {
   "cell_type": "markdown",
   "metadata": {
    "slideshow": {
     "slide_type": "slide"
    }
   },
   "source": [
    "### Toelichting CBS groepering\n",
    "\n",
    "Hier volgt verdere toelichting wat betreft de categorisering van het CBS. Binnen het onderzoek zijn alleen de percentuele waardes gebruikt.\n",
    "\n",
    "Autochtonen\n",
    "\n",
    "Personen van wie de beide ouders in Nederland zijn geboren.\n",
    "\n",
    "Allochtonen\n",
    "\n",
    "Personen van wie ten minste één ouder in het buitenland is geboren.\n",
    "\n",
    "Westerse allochtonen\n",
    "\n",
    "Allochtonen met als herkomstgroepering een van de landen in de werelddelen Europa (met uitzondering van Turkije), Noord-Amerika en Oceanië of Indonesië of Japan.\n",
    "\n",
    "Niet-westerse allochtonen\n",
    "\n",
    "Allochtonen met als herkomstgroepering Turkije of een van de landen in de werelddelen Afrika, Latijns-Amerika en Azië (met uitzondering van Indonesië en Japan).\n",
    "\n",
    "Op grond van hun sociaal-economische en -culturele positie worden allochtonen uit Indonesië en Japan tot de westerse allochtonen gerekend.\n",
    "Het gaat vooral om mensen die in voormalig Nederlands Indië zijn geboren en werknemers van Japanse bedrijven met hun gezin.\n",
    "Marokko\n",
    "\n",
    "Allochtonen met als herkomstgroepering Marokko, Ifni, Spaanse Sahara of Westelijke Sahara.\n",
    "\n",
    "(Voormalige) Ned. Antillen en Aruba\n",
    "\n",
    "Betreft een samentelling van de eilanden die tot het grondgebied van de Nederlandse Antillen en Aruba van vóór 10 oktober 2010 behoorden.\n",
    "Het gaat om de eilanden Bonaire, Curaçao, Saba, Sint-Eustatius, Sint-Maarten en Aruba.\n",
    "\n",
    "Vanaf 10 oktober 2010 zijn de Nederlandes Antillen ontbonden. Het Koninkrijk der Nederlanden bestaat dan uit vier landen: Nederland, Aruba, Curaçao en Sint Maarten. Alle eilanden hebben een nieuwe status.\n",
    "Curaçao en Sint Maarten zijn nieuwe landen binnen het Koninkrijk. Met een 'Status aparte' binnen het Koninkrijk zijn Curaçao en Sint Maarten autonome landen. De landen hebben een zelfstandig bestuur en zijn niet meer afhankelijk van Nederland.\n",
    "\n",
    "De openbare lichamen Bonaire, Sint Eustatius en Saba, ook wel Caribisch Nederland, hebben een diepere band met Nederland en functioneren als bijzondere gemeente van Nederland.\n",
    "\n",
    "Op 1 januari 1986 werd Aruba afgescheiden van de Nederlandse Antillen. Sinds die datum is Aruba een nieuw land binnen het Koninkrijk de Nederlanden. Met een 'Status aparte' binnen het Koninkrijk is Aruba een autonoom land. Aruba heeft een zelfstandig bestuur en is niet meer\n",
    "afhankelijk van Nederland.\n",
    "\n",
    "Overige niet-westerse allochtonen\n",
    "\n",
    "Alle niet-westerse allochtonen waarvan de herkomstgroepering niet gelijk is aan Turkije, Marokko, Suriname, de Nederlandse Antillen of Aruba.\n",
    "\n",
    "Totaal allochtonen\n",
    "\n",
    "Totaal allochtonen als percentage van het totaal aantal inwoners\n",
    "per 1 januari\n",
    "\n",
    "Totaal niet-westerse allochtonen\n",
    "\n",
    "Totaal niet-westerse allochtonen als percentage van het totaal aantal\n",
    "inwoners per 1 januari.\n",
    "\n",
    "Suriname\n",
    "\n",
    "Allochtonen met als herkomstgroepering Suriname als percentage\n",
    "van het totaal aantal inwoners per 1 januari.\n",
    "\n",
    "Turkije\n",
    "\n",
    "Allochtonen met als herkomstgroepering Turkije als percentage\n",
    "van het totaal aantal inwoners per 1 januari.\n"
   ]
  },
  {
   "cell_type": "markdown",
   "metadata": {
    "slideshow": {
     "slide_type": "slide"
    }
   },
   "source": [
    "## Slideshow"
   ]
  },
  {
   "cell_type": "code",
   "execution_count": 1,
   "metadata": {
    "collapsed": false,
    "slideshow": {
     "slide_type": "subslide"
    }
   },
   "outputs": [
    {
     "data": {
      "text/html": [
       "<iframe src=http://nbviewer.jupyter.org/format/slides/github/PieInTheSky/DS/blob/master/slide_miniproject3.ipynb width=900 height=500></iframe>"
      ],
      "text/plain": [
       "<IPython.core.display.HTML object>"
      ]
     },
     "execution_count": 1,
     "metadata": {},
     "output_type": "execute_result"
    }
   ],
   "source": [
    "from IPython.display import HTML\n",
    "HTML('<iframe src=http://nbviewer.jupyter.org/format/slides/github/PieInTheSky/DS/blob/master/miniproject_slides.ipynb width=900 height=500></iframe>')"
   ]
  },
  {
   "cell_type": "code",
   "execution_count": null,
   "metadata": {
    "collapsed": true
   },
   "outputs": [],
   "source": []
  }
 ],
 "metadata": {
  "celltoolbar": "Slideshow",
  "kernelspec": {
   "display_name": "Python 2",
   "language": "python",
   "name": "python2"
  },
  "language_info": {
   "codemirror_mode": {
    "name": "ipython",
    "version": 2
   },
   "file_extension": ".py",
   "mimetype": "text/x-python",
   "name": "python",
   "nbconvert_exporter": "python",
   "pygments_lexer": "ipython2",
   "version": "2.7.11"
  }
 },
 "nbformat": 4,
 "nbformat_minor": 0
}
