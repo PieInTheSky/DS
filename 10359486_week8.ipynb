{
 "cells": [
  {
   "cell_type": "markdown",
   "metadata": {},
   "source": [
    "# Miniproject\n",
    "\n",
    "## Notebook made by  \n",
    "\n",
    "|** Name** | **Student id** | **email**|\n",
    "|:- |:-|:-|\n",
    "|Pierre Pham|10359486 |phamkhoithanh@gmail.com|\n",
    "\n",
    "### Pledge (taken from [Coursera's Honor Code](https://www.coursera.org/about/terms/honorcode) )\n",
    "\n",
    "\n",
    "\n",
    "Put here a selfie with your photo where you hold a signed paper with the following text: (if this is team work, put two selfies here). The link must be to some place on the web, not to a local file. \n",
    "\n",
    "> My answers to homework, quizzes and exams will be my own work (except for assignments that explicitly permit collaboration).\n",
    "\n",
    ">I will not make solutions to homework, quizzes or exams available to anyone else. This includes both solutions written by me, as well as any official solutions provided by the course staff.\n",
    "\n",
    ">I will not engage in any other activities that will dishonestly improve my results or dishonestly improve/hurt the results of others.\n",
    "\n",
    "<img src='https://raw.githubusercontent.com/PieInTheSky/DS/master/photo.jpg'>\n",
    "\n",
    "### Note\n",
    "* **Assignments without the selfies or completely filled in information will not be graded and receive 0 points.**\n"
   ]
  },
  {
   "cell_type": "markdown",
   "metadata": {},
   "source": [
    "# Politieke agenda in de Tweede Kamer\n",
    "\n",
    "### Spreekmomenten en zetels\n",
    "\n",
    "<img src='https://imgn.rgcdn.nl/750fb63e00284e02911aeb7fc8783ca6/opener/De-Tweede-Kamer-Foto-Wikimedia-commons.jpg'>\n",
    "\n",
    "* Pierre Pham - 10359486\n"
   ]
  },
  {
   "cell_type": "markdown",
   "metadata": {},
   "source": [
    "## Abstract\n",
    "\n",
    "Er is gekeken naar het verband tussen het zetel aantal en spreekmomenten in de tweedekamer tussen oppositie partijen en het kabinet. Aan de hand van gegevens van de overheid.nl is op basis van een Pearson Correlatie berekend of er een verband is tussen het aantal zetels en het aantal spreekmomenten. Op basis van de Pearson Correlatie is een perfect negatief verband te zien tussen het aantal zetels en het aantal spreekmomenten. De oppositie partijen zijn duidelijk meer aan het woord in tegenstelling tot de regeringspartijen."
   ]
  },
  {
   "cell_type": "markdown",
   "metadata": {},
   "source": [
    "## Introductie\n",
    "\n",
    "Men stemt meestal op een politicus of partij voor hun idealen, maar men moet ook meer gaan letten op hoe actief die kandidaat in het verleden was geweest. Hierdoor willen wij kijken of de grootte van een partij, of beter gezegd het aantal zetels, invloed heeft op hoe actief Kamerleden in de plenaire vergaderingen zijn. Onze onderzoeksvraag luidt daarom als volgt: In hoeverre hebben de aantal zetels invloed op aantal spreekmomenten in Tweede Kamer vergaderingen? Door gebruik te maken van open source data zullen we verschillende vergelijkingen maken om tot een antwoord te komen.\n",
    "\n",
    "Kiezers worden steeds meer beïnvloed door korte termijn factoren, zoals sympathie en charme van bepaalde lijsttrekkers gepaard met beleidsstandpunten van partijen. Dit leidt tot grotere aantallen veranderlijke kiezers. Door middel van dit soort onderzoeken, zullen kiezers beter advies kunnen krijgen van hoe actief elk partij in de voorgaande 4 jaren was.\n",
    "\n",
    "In het verleden zijn er verschillende onderzoeken geweest die de handelingen van Tweede Kamerleden analyseren, maar in dit onderzoek zal er specifiek gefocust worden op de aantal zetels en de spreekmomenten.\n",
    "  \n",
    "We verwachten dat oppositiepartijen meer aan het woord komen in tegenstelling tot coalitiepartijen, omdat ze wat vrijer zijn om te concentreren op zaken die voor hun belangrijk zijn."
   ]
  },
  {
   "cell_type": "markdown",
   "metadata": {},
   "source": [
    "## Gerelateerd werk\n",
    "\n",
    "#### Kiezers\n",
    "Politieke partijen verliezen sinds de jaren negentig steeds zetels bij de Tweede Kamerverkiezingen. De reden hiervoor is dat kiezers niet verbonden genoeg bij een partij zijn, en beïnvloed worden door korte termijn factoren<a href=\"https://www.parlement.com/id/vhnnmt7ih7yh/tweede_kamer\">[1]</a>. Kiezers letten tegenwoordig minder op de handelingen van politici in voorgaande termijnen. Dit betekent dat er waarschijnlijk steeds minder een partij zal zijn die veel groter is dan de rest. \n",
    "\n",
    "#### Plenaire vergaderingen\n",
    "De Tweede Kamer bestaat uit 150 gekozen leden van verschillende politieke partijen<a href=\"https://www.parlement.com/id/vh8lnhrpmxv2/plenaire_vergadering_tweede_kamer\">[2]</a>. Deze leden zijn verantwoordelijk voor medewetgeving en controle van het kabinet. Hiernaast mogen Tweede Kamerleden ook wetsvoorstellen indienen<a href=\"https://www.parlement.com/id/vh8lnhrpmxv2/plenaire_vergadering_tweede_kamer\">[2]</a>. Dit wordt grotendeels gedaan in plenaire vergaderingen. Hier vergaderen alle 150 Kamerleden. In plenaire vergaderingen wordt wetsvoorstellen en rapporten besproken, gedebatteerd en mondelinge vragen beantwoord<a href=\"http://www.eerlijkemedia.nl/aanwezig\">[3]</a>. Minstens 76 Kamerleden moeten er aanwezig zijn, om te mogen vergaderen. UIt onderzoek blijkt dat fractievoorzitters meestal wat minder aanwezig zijn dan de rest van hun fractie<a href=\"https://evajinek.kro-ncrv.nl/artikelen/deze-kamerleden-zijn-heel-actief-en-deze-leunen-vooral-achterover \">[4]</a>. Dit blijkt zo te zijn, omdat fractievoorzitters ook met vertegenwoordigers van het bedrijfsleven en maatschappelijke organisaties gesprekken moeten voeren. \n",
    "Ook is er een verschil tussen linkse en rechtse partijen. Linkse partijen blijken minder aanwezig te zijn dan rechtse partijen. Tussen 1994 en 2013 was het verschil in aanwezigheid tussen linkse en rechtse partijen 3%. Dit verschil is klein, maar significant. Echter bestond er tussen die tijd geen verschil tussen grote en kleine partijen.\n",
    "\n",
    "Recentelijk werd er weer onderzoek gedaan naar hoe actief politici werkelijk zijn in de Tweede Kamer<a href=\"https://www.unc.edu/~fbaum/teaching/articles/Green-Pedersen-EJPR-2010.pdf\">[5]</a>. In dit onderzoek werd gekeken naar aantal gestelde vragen over beleid en aantal moties en amendementen aangedragen. Kamerleden worden in de resultaten verdeeld in clusters, namelijk “Werkpaarden”, “Doorvragers”, “Bouwers” en “Onzichtbaren”. Opmerkelijk is wel dat partijen met veel zetels(PvDA en VVD) vooral in de groep van “Onzichtbaren” zitten. Van de PvDA lag 43% van hun zetels  bij de “Onzichtbaren” en van de VVD was dit 80%. \n",
    "\n",
    "#### Coalitie- en oppositiepartijen\n",
    "Er bestaat volgens Green-Pedersen(2009)<a href=\"http://www.ioresearch.nl/home/nieuws/artmid/445/articleid/458/motieven-die-het-stemgedrag-van-nederlandse-kiezers-bepalen#.WOGnABJ95QJ\">[6]</a> een verschil in hoe coalitie- en oppositiepartijen handelen in de Tweede Kamer. Volgens hem hebben oppositiepartijen meer vrijheid om te focussen op zaken die voor hun voordelig zijn, waardoor ze ook vaker aan het woord komen. Daarentegen, kunnen coalitiepartijen dit minder snel doen omdat zij gedwongen worden om punten op de politieke agenda te behandelen. Dit omdat ze niet verantwoordelijk zijn voor beleidsoplossingen. Zijn onderzoek is welliswaar gebaseerd op de Deense parlement, maar er wordt ervan uitgegaan dat omdat Denemarken en Nederland dezelfde politieke systeem hebben de resultaten ook met elkaar overeenkomen. \n"
   ]
  },
  {
   "cell_type": "markdown",
   "metadata": {},
   "source": [
    "## Methodologie\n",
    "\n",
    "Er zijn specifieke gegevens nodig om erachter te komen of aantal zetels invloed hebben op hoe actief Kamerleden zijn. Ten eerste, vergelijken we hier de verschillende aantal zetels van elke partij en hun respectievelijke sprekers. En ten tweede, vergelijken we de spreekmomenten van elke spreker. Er worden verslagen gemaakt van alle plenaire vergaderingen, deze worden “Handelingen” genoemd. En “Handelingen” worden ook allemaal gepubliceerd op de site van de overheid (<a href=\"www.overheid.nl\">www.overheid.nl</a>), waar er ook allemaal andere open data beschikbaar is. De Handelingen data files kunnen allemaal in XML formaat gedownload worden. \n",
    "\n",
    "De XML files werden getransformeerd naar een bestand waar data verdeeld wordt in: datum, termijn, rol, spreker, indegree, debat onderwerp, onderbrekers, aantal onderbrekers en url. Onder termijn wordt de aantal keren in een debat dat de spreker vanaf het spreekgestoelte de zaal toespreekt. Indegree is het aantal mensen die een spreker onderbroken heeft. \n",
    "\n",
    "Verder is er bij het opstellen van de data gebruik gemaakt van de Wikipedia pagina van Kabinet Rutte II<a href=\"https://nl.wikipedia.org/wiki/Kabinet-Rutte_II\">[7]</a> om de verdeling van de kabinet te bepalen. Ook werd de Wikipedia pagina van de samenstelling van de Tweede Kamer(2012-2017) gebruikt in dit proces<a href=\"https://nl.wikipedia.org/wiki/Samenstelling_Tweede_Kamer_2012-2017\">[8]</a>.\n",
    "\n",
    "Van de data is vervolgens gekeken naar de partijen die hebben plaatsgenomen in de tweede kamer. Van deze zittende partijen in de tweede kamer is vervolgens een scheiding gemaakt tussen de partijen in het kabinet en de tweede kamer.\n",
    "\n",
    "De data <a href=\"https://nl.wikipedia.org/wiki/Kabinet-Rutte_II\">Kabinet-Rutte II</a> bevat informatie over de regeringpartijen en welke personen en partijen er in het kabinet zitten. \n",
    "De data afkomstig uit <a href=\"https://nl.wikipedia.org/wiki/Samenstelling_Tweede_Kamer_2012-2017\">Tweede Kamer</a> bestaat uit wiki tabellen die informatie over zittende kamerleden en hun partij bevatten. Uit deze data is op te maken hoeveel zetels en personen er zowel voor de oppositie en het kabinet in de tweede kamer hebben plaatsgenomen.\n",
    "\n",
    "Nu we de benodigde data hebben, kunnen we de gegevens met elkaar vergelijken. We zullen het zetel aantal afzetten tegen het aantal spreekmomenten per partij en het zetel aantal en spreekmomenten van het kabinet tegenover de oppositie."
   ]
  },
  {
   "cell_type": "markdown",
   "metadata": {},
   "source": [
    "## Evaluatie\n",
    "\n",
    "Als we kijken naar het aantal zetels van het kabinet is te zien dat de vvd in verglijking tot de pvda veel meer aan het woord is. Van de oppositie is te zien dat vooral 50plus(vp), pvdd en cda eruit springen. De verwachting was op basis van de literatuur dat de oppositie partijen veel meer aanbod kwamen in tegenstelling to de regeringspartijen. In dit onderzoek is op de data een Pearson Correlation uitgevoerd. Uit deze Pearson Correlation blijkt dat er sprake is van een negatief verband tussen oppositie partijen en het aantal zetels.\n",
    "\n",
    "Hieronder is te zien het aantal spreekomenten per partij in de tweede kamer. Het daaropvolgend grafiek laat het aantal spreekmomenten van het kabinet tegenover het aantal spreekmomenten van de oppositie zien."
   ]
  },
  {
   "cell_type": "code",
   "execution_count": 19,
   "metadata": {
    "collapsed": false
   },
   "outputs": [
    {
     "data": {
      "image/png": "[encoded data removed]",
      "text/plain": [
       "<matplotlib.figure.Figure at 0x11a194450>"
      ]
     },
     "metadata": {},
     "output_type": "display_data"
    }
   ],
   "source": [
    "objects = ('vvd','pvda','sp','pvv','d66', 'cda', 'cu','gl', 'sgp', 'pvdd', 'vp')\n",
    "y_pos = np.arange(len(objects))\n",
    "performance = [vvd,pvda,pvv, sp, cda, d66, cu, gl, sgp, pvdd, vp]\n",
    " \n",
    "plt.bar(y_pos, performance, align='center', alpha=0.5)\n",
    "plt.xticks(y_pos, objects)\n",
    "plt.ylabel('Aantal spreek momenten')\n",
    "plt.xlabel('Partijen')\n",
    "plt.locator_params(nbins=25)\n",
    " \n",
    "plt.show()"
   ]
  },
  {
   "cell_type": "code",
   "execution_count": 20,
   "metadata": {
    "collapsed": false
   },
   "outputs": [
    {
     "data": {
      "image/png": "[encoded data removed]",
      "text/plain": [
       "<matplotlib.figure.Figure at 0x11ce55a10>"
      ]
     },
     "metadata": {},
     "output_type": "display_data"
    }
   ],
   "source": [
    "kab = vvd+pvda\n",
    "other = pvv+sp+cda+d66+cu+gl+sgp+pvdd+vp\n",
    "\n",
    "objects = ('Kabinet','Oppositie')\n",
    "y_pos = np.arange(len(objects))\n",
    "performance = [kab,other]\n",
    " \n",
    "plt.bar(y_pos, performance, align='center', alpha=1)\n",
    "plt.xticks(y_pos, objects)\n",
    "plt.ylabel('Aantal spreekmomenten')\n",
    "plt.xlabel('Kamer verhouding')\n",
    "plt.locator_params(nbins=25)\n",
    " \n",
    "plt.show()"
   ]
  },
  {
   "cell_type": "code",
   "execution_count": 21,
   "metadata": {
    "collapsed": false
   },
   "outputs": [
    {
     "data": {
      "text/html": [
       "<div>\n",
       "<table border=\"1\" class=\"dataframe\">\n",
       "  <thead>\n",
       "    <tr style=\"text-align: right;\">\n",
       "      <th></th>\n",
       "      <th>Zetels</th>\n",
       "      <th>Spreekbeurten</th>\n",
       "    </tr>\n",
       "  </thead>\n",
       "  <tbody>\n",
       "    <tr>\n",
       "      <th>Zetels</th>\n",
       "      <td>1.000000</td>\n",
       "      <td>0.249839</td>\n",
       "    </tr>\n",
       "    <tr>\n",
       "      <th>Spreekbeurten</th>\n",
       "      <td>0.249839</td>\n",
       "      <td>1.000000</td>\n",
       "    </tr>\n",
       "  </tbody>\n",
       "</table>\n",
       "</div>"
      ],
      "text/plain": [
       "                 Zetels  Spreekbeurten\n",
       "Zetels         1.000000       0.249839\n",
       "Spreekbeurten  0.249839       1.000000"
      ]
     },
     "execution_count": 21,
     "metadata": {},
     "output_type": "execute_result"
    },
    {
     "data": {
      "image/png": "[encoded data removed]",
      "text/plain": [
       "<matplotlib.figure.Figure at 0x1193b1cd0>"
      ]
     },
     "metadata": {},
     "output_type": "display_data"
    }
   ],
   "source": [
    "zetel_aantal = data_z['Zetels']\n",
    "beurten = data_z['Spreekbeurten']\n",
    "plt.scatter(zetel_aantal, beurten)\n",
    "\n",
    "corr_df = data_z[['Zetels', 'Spreekbeurten']]\n",
    "corr_df.corr()\n",
    "# geen correlatie "
   ]
  },
  {
   "cell_type": "code",
   "execution_count": 22,
   "metadata": {
    "collapsed": false
   },
   "outputs": [
    {
     "data": {
      "text/html": [
       "<div>\n",
       "<table border=\"1\" class=\"dataframe\">\n",
       "  <thead>\n",
       "    <tr style=\"text-align: right;\">\n",
       "      <th></th>\n",
       "      <th>Spreekbeurten</th>\n",
       "      <th>Tweede Kamer</th>\n",
       "      <th>Zetels</th>\n",
       "    </tr>\n",
       "  </thead>\n",
       "  <tbody>\n",
       "    <tr>\n",
       "      <th>0</th>\n",
       "      <td>281</td>\n",
       "      <td>Kabinet</td>\n",
       "      <td>79</td>\n",
       "    </tr>\n",
       "    <tr>\n",
       "      <th>1</th>\n",
       "      <td>791</td>\n",
       "      <td>Oppositie</td>\n",
       "      <td>71</td>\n",
       "    </tr>\n",
       "  </tbody>\n",
       "</table>\n",
       "</div>"
      ],
      "text/plain": [
       "   Spreekbeurten Tweede Kamer  Zetels\n",
       "0            281      Kabinet      79\n",
       "1            791    Oppositie      71"
      ]
     },
     "execution_count": 22,
     "metadata": {},
     "output_type": "execute_result"
    }
   ],
   "source": [
    "kabinet_spreek = data_z['Spreekbeurten'][:2].sum()\n",
    "kabinet_zetels = data_z['Zetels'][:2].sum()\n",
    "\n",
    "oppo_spreek = data_z['Spreekbeurten'][2:].sum()\n",
    "oppo_zetels = data_z['Zetels'][2:].sum()\n",
    "\n",
    "v_kamer = ['Kabinet','Oppositie']\n",
    "v_spreek = [kabinet_spreek, oppo_spreek]\n",
    "v_zetels = [kabinet_zetels, oppo_zetels]\n",
    "\n",
    "verhouding = pd.DataFrame({'Tweede Kamer': v_kamer,'Spreekbeurten': v_spreek,'Zetels': v_zetels})\n",
    "verhouding"
   ]
  },
  {
   "cell_type": "code",
   "execution_count": 23,
   "metadata": {
    "collapsed": false
   },
   "outputs": [
    {
     "data": {
      "text/html": [
       "<div>\n",
       "<table border=\"1\" class=\"dataframe\">\n",
       "  <thead>\n",
       "    <tr style=\"text-align: right;\">\n",
       "      <th></th>\n",
       "      <th>Zetels</th>\n",
       "      <th>Spreekbeurten</th>\n",
       "    </tr>\n",
       "  </thead>\n",
       "  <tbody>\n",
       "    <tr>\n",
       "      <th>Zetels</th>\n",
       "      <td>1.0</td>\n",
       "      <td>-1.0</td>\n",
       "    </tr>\n",
       "    <tr>\n",
       "      <th>Spreekbeurten</th>\n",
       "      <td>-1.0</td>\n",
       "      <td>1.0</td>\n",
       "    </tr>\n",
       "  </tbody>\n",
       "</table>\n",
       "</div>"
      ],
      "text/plain": [
       "               Zetels  Spreekbeurten\n",
       "Zetels            1.0           -1.0\n",
       "Spreekbeurten    -1.0            1.0"
      ]
     },
     "execution_count": 23,
     "metadata": {},
     "output_type": "execute_result"
    },
    {
     "data": {
      "image/png": "[encoded data removed]",
      "text/plain": [
       "<matplotlib.figure.Figure at 0x11cf57590>"
      ]
     },
     "metadata": {},
     "output_type": "display_data"
    }
   ],
   "source": [
    "v_z = verhouding['Zetels']\n",
    "v_s = verhouding['Spreekbeurten']\n",
    "plt.scatter(v_z, v_s)\n",
    "\n",
    "corr_df = verhouding[['Zetels', 'Spreekbeurten']]\n",
    "corr_df.corr()"
   ]
  },
  {
   "cell_type": "markdown",
   "metadata": {},
   "source": [
    "Hoewel er uit de eerste Pearson Correlatie een verband is te zien, zijn deze niet significant genoeg om tot een conclusie te komen die de resultaten van het gerelateerde werk te bevestigen of tegen te spreken. Daarnaast zeggen de individuele partijen niet zoveel over de verdeling van spreekmomenten afzonderlijk afgezien van de uitschieters. Hierbij is een significantie niveau van 0.5 gehanteerd.\n",
    "De tweede Pearson Correlatie geeft duidelijk een perfect negatief verband van -1 aan. Dit bevestigt de resultaten uit het paper van Green-Pedersen(2009). De oppositie is duidelijk veel meer aan het woord in tegenstelling tot de regeringspartijen. Dit resultaat beantwoord de vraag of er een correlatie te zien is tussen spreekmomenten en het zetel aantal. In dit geval is het resultaat perfect negatief. Ook hierbij is een significantie niveau van 0.5 gehanteerd. "
   ]
  },
  {
   "cell_type": "markdown",
   "metadata": {},
   "source": [
    "## Conclusie \n",
    "\n",
    "Op basis van de resultaten van de Pearson Correlatie is het mogelijk om  te zeggen dat zoals verwacht de oppositie partijen meer aan het woord komen. Zoals de literatuur aangeeft is een mogelijke oorzaak voor dit verschijnsel dat oppositie partijen in tegenstelling tot regeringspartijen minder zijn gebonden aan het voorhouden van een imago en dusmede sneller geneigd zijn om onderwerpen aan te snijden tijdens vergaderingen die zij belangrijk vinden. Voor verdere onderzoek zou het interessant zijn om niet alleen de lijsttrekkers van partijen te nemen in het onderzoek maar ook de andere leden van een partij. Hier is echter wel op te merken dat mensen vaak op de lijstrekker van een partij stemmen omdat deze persoon vaak het bekendst is en hier hun aandacht aan toespelen.\n"
   ]
  },
  {
   "cell_type": "markdown",
   "metadata": {},
   "source": [
    "## Literatuur\n",
    "\n",
    "<a href=\"https://www.parlement.com/id/vhnnmt7ih7yh/tweede_kamer\">[1] Tweede Kamer. (n.d.). Retrieved March 30, 2017</a>\n",
    "\n",
    "<a href=\"https://www.parlement.com/id/vh8lnhrpmxv2/plenaire_vergadering_tweede_kamer\">[2] Parlement. (n.d.). Plenaire vergadering Tweede Kamer. Retrieved March 30, 2017</a>\n",
    "\n",
    "<a href=\"http://www.eerlijkemedia.nl/aanwezig\">[3] Meijers, J. (2013, September 02). Tweede Kamer was nog nooit zo veel aanwezig. Retrieved March 30, 2017</a>\n",
    "\n",
    "<a href=\"https://evajinek.kro-ncrv.nl/artikelen/deze-kamerleden-zijn-heel-actief-en-deze-leunen-vooral-achterover\">[4]Jinek, E. (2017, March 22). Deze Kamerleden zijn heel actief (en deze leunen vooral achterover). Retrieved April 02, 2017</a>\n",
    "\n",
    "<a href=\"http://onlinelibrary.wiley.com/doi/10.1111/j.1475-6765.2009.01897.x/full\">[5] GREEN‐PEDERSEN, C. H. R. I. S. T. O. F. F. E. R., & Mortensen, P. B. (2010). Who sets the agenda and who responds to it in the Danish parliament? A new model of issue competition and agenda‐setting. European Journal of Political Research, 49(2), 257-281.</a>\n",
    "\n",
    "<a href=\"http://www.ioresearch.nl/home/nieuws/artmid/445/articleid/458/motieven-die-het-stemgedrag-van-nederlandse-kiezers-bepalen#.WOGnABJ95QJ\">[6] Van Wijnen, P. (n.d.). Motieven die het stemgedrag van Nederlandse kiezers bepalen. Retrieved April 02, 2017</a>\n",
    "\n",
    "\n",
    "<a href=\"https://nl.wikipedia.org/wiki/Kabinet-Rutte_II\">[7] Kabinet-Rutte II.</a>\n",
    "\n",
    "<a href=\"https://nl.wikipedia.org/wiki/Samenstelling_Tweede_Kamer_2012-2017\">[8] Samenstelling Tweede Kamer 2012-2017</a>\n"
   ]
  },
  {
   "cell_type": "markdown",
   "metadata": {},
   "source": [
    "## Appendix"
   ]
  },
  {
   "cell_type": "code",
   "execution_count": 18,
   "metadata": {
    "collapsed": true
   },
   "outputs": [],
   "source": [
    "#imports\n",
    "from lxml import etree\n",
    "import pandas as pd\n",
    "import numpy as np\n",
    "%matplotlib inline\n",
    "#import matplotlib.pyplot as plt\n",
    "#!pip install html5lib #run this to enable html5lib\n",
    "import html5lib\n",
    "import cookielib # Thanks to http://stackoverflow.com/questions/29395407/enabling-cookies-with-urllib\n",
    "import urllib2\n",
    "from bs4 import BeautifulSoup\n",
    "import matplotlib.pyplot as plt"
   ]
  },
  {
   "cell_type": "code",
   "execution_count": 3,
   "metadata": {
    "collapsed": false
   },
   "outputs": [],
   "source": [
    "#speaking data\n",
    "df = pd.read_csv('http://maartenmarx.nl/teaching/DataScience/Data/WildersXMLassignment/interrupties.csv', \n",
    "                 index_col='spreker', usecols = [2], skiprows = [0],\n",
    "                 header = None, names=['spreker'])"
   ]
  },
  {
   "cell_type": "code",
   "execution_count": 4,
   "metadata": {
    "collapsed": false,
    "scrolled": false
   },
   "outputs": [
    {
     "data": {
      "text/html": [
       "<div>\n",
       "<table border=\"1\" class=\"dataframe\">\n",
       "  <thead>\n",
       "    <tr style=\"text-align: right;\">\n",
       "      <th></th>\n",
       "    </tr>\n",
       "    <tr>\n",
       "      <th>spreker</th>\n",
       "    </tr>\n",
       "  </thead>\n",
       "  <tbody>\n",
       "    <tr>\n",
       "      <th>Recourt</th>\n",
       "    </tr>\n",
       "    <tr>\n",
       "      <th>Van der Burg</th>\n",
       "    </tr>\n",
       "    <tr>\n",
       "      <th>Bosma</th>\n",
       "    </tr>\n",
       "    <tr>\n",
       "      <th>Van Toorenburg</th>\n",
       "    </tr>\n",
       "    <tr>\n",
       "      <th>Van Raak</th>\n",
       "    </tr>\n",
       "  </tbody>\n",
       "</table>\n",
       "</div>"
      ],
      "text/plain": [
       "Empty DataFrame\n",
       "Columns: []\n",
       "Index: [Recourt, Van der Burg, Bosma, Van Toorenburg, Van Raak]"
      ]
     },
     "execution_count": 4,
     "metadata": {},
     "output_type": "execute_result"
    }
   ],
   "source": [
    "df.head()"
   ]
  },
  {
   "cell_type": "code",
   "execution_count": 5,
   "metadata": {
    "collapsed": false
   },
   "outputs": [
    {
     "data": {
      "text/plain": [
       "234"
      ]
     },
     "execution_count": 5,
     "metadata": {},
     "output_type": "execute_result"
    }
   ],
   "source": [
    "#cleaning\n",
    "df = df[df.index != 'De Caluw\\xc3\\xa9']\n",
    "df = df[df.index != 'G\\xc3\\xbcnal-Gezer']\n",
    "df = df[df.index != 'Ko\\xc5\\x9fer Kaya']\n",
    "df = df[df.index != 'Nepp\\xc3\\xa9rus']\n",
    "df = df[df.index != 'Y\\xc3\\xbccel']\n",
    "df = df[df.index != '\\xc3\\x96zt\\xc3\\xbcrk']\n",
    "#len(df.index)))\n",
    "#set(df.index)\n",
    "len(set(df.index))\n"
   ]
  },
  {
   "cell_type": "code",
   "execution_count": 6,
   "metadata": {
    "collapsed": false
   },
   "outputs": [
    {
     "data": {
      "text/html": [
       "<div>\n",
       "<table border=\"1\" class=\"dataframe\">\n",
       "  <thead>\n",
       "    <tr style=\"text-align: right;\">\n",
       "      <th></th>\n",
       "      <th>Partijen</th>\n",
       "    </tr>\n",
       "  </thead>\n",
       "  <tbody>\n",
       "    <tr>\n",
       "      <th>0</th>\n",
       "      <td>VVD</td>\n",
       "    </tr>\n",
       "    <tr>\n",
       "      <th>1</th>\n",
       "      <td>PvdA</td>\n",
       "    </tr>\n",
       "  </tbody>\n",
       "</table>\n",
       "</div>"
      ],
      "text/plain": [
       "  Partijen\n",
       "0      VVD\n",
       "1     PvdA"
      ]
     },
     "execution_count": 6,
     "metadata": {},
     "output_type": "execute_result"
    }
   ],
   "source": [
    "# \n",
    "kabinet = pd.read_html('https://nl.wikipedia.org/wiki/Kabinet-Rutte_II',header=0)\n",
    "kabinet = kabinet[5]\n",
    "kabinet = kabinet[[4]]\n",
    "kabinet = kabinet[:2]\n",
    "kabinet.columns = ['Partijen']\n",
    "kabinet"
   ]
  },
  {
   "cell_type": "code",
   "execution_count": 7,
   "metadata": {
    "collapsed": false
   },
   "outputs": [],
   "source": [
    "kabinet_lijst = kabinet['Partijen'][0].lower(), kabinet['Partijen'][1].lower()"
   ]
  },
  {
   "cell_type": "code",
   "execution_count": 8,
   "metadata": {
    "collapsed": false
   },
   "outputs": [],
   "source": [
    "#house of representatives\n",
    "url = 'https://nl.wikipedia.org/wiki/Samenstelling_Tweede_Kamer_2012-2017'\n",
    "\n",
    "# with urllib2 and handling cookies\n",
    "cookiejar = cookielib.LWPCookieJar()\n",
    "opener = urllib2.build_opener( urllib2.HTTPCookieProcessor(cookiejar) )\n",
    "response = opener.open(url)\n",
    "html_doc = ' '.join(response.readlines())\n",
    "soup = BeautifulSoup(html_doc, \"lxml\")"
   ]
  },
  {
   "cell_type": "code",
   "execution_count": 9,
   "metadata": {
    "collapsed": false
   },
   "outputs": [],
   "source": [
    "#selecting all links with names\n",
    "links = soup.find_all('a')\n",
    "raw_data = [link.get('href') for link in links]\n",
    "#delete non-names\n",
    "del raw_data[:35]\n",
    "del raw_data[199:]\n",
    "#cleaning data\n",
    "data = [i for i in raw_data if i.startswith(\"/wiki/\")]\n",
    "data = [item[6:] for item in data if item.startswith(\"/wiki/\")]\n",
    "data = [name.replace(\"_\", \" \") for name in data]\n",
    "data = [name.replace(\" (politicus)\", \"\") for name in data]\n",
    "data = [name.replace(\" (politica)\", \"\") for name in data]\n",
    "data = [line.title() for line in data]\n",
    "data = [pre.split(' ', 1)[-1] for pre in data]"
   ]
  },
  {
   "cell_type": "code",
   "execution_count": 10,
   "metadata": {
    "collapsed": false
   },
   "outputs": [],
   "source": [
    "#partijleden\n",
    "vvd = data[1:42]\n",
    "pvda = data[43:81]\n",
    "pvv = data[82:97]\n",
    "sp = data[98:113]\n",
    "cda = data[114:127]\n",
    "d66 = data[128:140]\n",
    "cu = data[141:146]\n",
    "gl = data[147:151]\n",
    "sgp = data[152:155]\n",
    "pvdd = data[156:158]\n",
    "vp = data[159:161]"
   ]
  },
  {
   "cell_type": "code",
   "execution_count": 11,
   "metadata": {
    "collapsed": false
   },
   "outputs": [],
   "source": [
    "#vvd clean up \n",
    "if 'Nepp%C3%A9Rus' in vvd:\n",
    "    vvd.remove('Nepp%C3%A9Rus')\n",
    "if 'Van %27T Wout' in vvd:\n",
    "    vvd.remove('Van %27T Wout')\n",
    "if 'De Caluw%C3%A9' in vvd:\n",
    "    vvd.remove('De Caluw%C3%A9')\n",
    "#pvda   clean up \n",
    "if 'Y%C3%Bccel' in pvda:\n",
    "    pvda.remove('Y%C3%Bccel')"
   ]
  },
  {
   "cell_type": "code",
   "execution_count": 12,
   "metadata": {
    "collapsed": false
   },
   "outputs": [],
   "source": [
    "vvd_df = pd.DataFrame(vvd)\n",
    "vvd_df['partij']='vvd'\n",
    "\n",
    "pvda_df = pd.DataFrame(pvda)\n",
    "pvda_df['partij']='pvda'\n",
    "\n",
    "pvv_df = pd.DataFrame(pvv)\n",
    "pvv_df['partij']='pvv'\n",
    "\n",
    "sp_df = pd.DataFrame(sp)\n",
    "sp_df['partij']='sp'\n",
    "\n",
    "cda_df = pd.DataFrame(cda)\n",
    "cda_df['partij']='cda'\n",
    "\n",
    "d66_df = pd.DataFrame(d66)\n",
    "d66_df['partij']='d66'\n",
    "\n",
    "cu_df = pd.DataFrame(cu)\n",
    "cu_df['partij']='cu'\n",
    "\n",
    "gl_df = pd.DataFrame(gl)\n",
    "gl_df['partij']='gl'\n",
    "\n",
    "sgp_df = pd.DataFrame(sgp)\n",
    "sgp_df['partij']='sgp'\n",
    "\n",
    "pvdd_df = pd.DataFrame(pvdd)\n",
    "pvdd_df['partij']='pvdd'\n",
    "\n",
    "vp_df = pd.DataFrame(vp)\n",
    "vp_df['partij']='vp'\n"
   ]
  },
  {
   "cell_type": "code",
   "execution_count": 13,
   "metadata": {
    "collapsed": false
   },
   "outputs": [],
   "source": [
    "df_vvd = df.loc[(df.index == 'Rutte')]\n",
    "vvd = len(df_vvd)\n",
    "\n",
    "df_pvda = df.loc[(df.index == 'Samsom')]\n",
    "pvda = len(df_pvda)\n",
    "\n",
    "df_pvv = df.loc[(df.index == 'Wilders')]\n",
    "pvv = len(df_pvv)\n",
    "\n",
    "df_sp = df.loc[(df.index == 'Roemer')]\n",
    "sp = len(df_sp)\n",
    "\n",
    "df_cda = df.loc[(df.index == 'Van Haersma Buma')]\n",
    "cda = len(df_cda)\n",
    "\n",
    "df_d66 = df.loc[(df.index == 'Pechtold')]\n",
    "d66 = len(df_d66)\n",
    "\n",
    "df_cu = df.loc[(df.index == 'Slob')]\n",
    "cu = len(df_cu)\n",
    "\n",
    "df_gl = df.loc[(df.index == 'Sap')]\n",
    "gl = len(df_gl)\n",
    "\n",
    "df_sgp = df.loc[(df.index == 'Van Der Staaij')]\n",
    "sgp = len(df_sgp)\n",
    "\n",
    "df_pvdd = df.loc[(df.index == 'Thieme')]\n",
    "pvdd = len(df_pvdd)\n",
    "\n",
    "df_vp = df.loc[(df.index == 'Krol')]\n",
    "vp = len(df_vp)"
   ]
  },
  {
   "cell_type": "code",
   "execution_count": 14,
   "metadata": {
    "collapsed": true
   },
   "outputs": [],
   "source": [
    "kamer = pd.read_html('http://wikikids.nl/Tweede_Kamerverkiezingen_2012',header=0)\n",
    "#pd.read_html?\n",
    "kamer = kamer[1].drop('Logo', axis=1)\n",
    "#kamer = kamer.set_index('Partij')\n",
    "kamer.columns = ['Partij','Lijstrekker','Zetels2010','Zetels2012','Winst/Verlies']\n",
    "#for item in kamer['Zetels2012']:\n",
    "#    if item >= 4:\n",
    "#        print item\n",
    "Zetel_aantal = kamer['Zetels2012'][:11]\n",
    "Partijen = kamer['Partij'][:11]"
   ]
  },
  {
   "cell_type": "code",
   "execution_count": 15,
   "metadata": {
    "collapsed": false
   },
   "outputs": [
    {
     "data": {
      "text/html": [
       "<div>\n",
       "<table border=\"1\" class=\"dataframe\">\n",
       "  <thead>\n",
       "    <tr style=\"text-align: right;\">\n",
       "      <th></th>\n",
       "      <th>Partijen</th>\n",
       "      <th>Spreekbeurten</th>\n",
       "      <th>Zetels</th>\n",
       "    </tr>\n",
       "  </thead>\n",
       "  <tbody>\n",
       "    <tr>\n",
       "      <th>0</th>\n",
       "      <td>Volkspartij voor Vrijheid en Democratie(VVD)</td>\n",
       "      <td>222</td>\n",
       "      <td>41</td>\n",
       "    </tr>\n",
       "    <tr>\n",
       "      <th>1</th>\n",
       "      <td>Partij van de Arbeid(PvdA)</td>\n",
       "      <td>59</td>\n",
       "      <td>38</td>\n",
       "    </tr>\n",
       "    <tr>\n",
       "      <th>2</th>\n",
       "      <td>Partij voor de Vrijheid(PVV)</td>\n",
       "      <td>52</td>\n",
       "      <td>15</td>\n",
       "    </tr>\n",
       "    <tr>\n",
       "      <th>3</th>\n",
       "      <td>Socialistische Partij(SP)</td>\n",
       "      <td>61</td>\n",
       "      <td>15</td>\n",
       "    </tr>\n",
       "    <tr>\n",
       "      <th>4</th>\n",
       "      <td>Christen-Democratisch Appèl(CDA)</td>\n",
       "      <td>90</td>\n",
       "      <td>13</td>\n",
       "    </tr>\n",
       "    <tr>\n",
       "      <th>5</th>\n",
       "      <td>Democraten 66(D66)</td>\n",
       "      <td>139</td>\n",
       "      <td>12</td>\n",
       "    </tr>\n",
       "    <tr>\n",
       "      <th>6</th>\n",
       "      <td>ChristenUnie(CU)</td>\n",
       "      <td>100</td>\n",
       "      <td>5</td>\n",
       "    </tr>\n",
       "    <tr>\n",
       "      <th>7</th>\n",
       "      <td>GroenLinks(GL)</td>\n",
       "      <td>8</td>\n",
       "      <td>4</td>\n",
       "    </tr>\n",
       "    <tr>\n",
       "      <th>8</th>\n",
       "      <td>Staatkundig Gereformeerde Partij(SGP)</td>\n",
       "      <td>0</td>\n",
       "      <td>3</td>\n",
       "    </tr>\n",
       "    <tr>\n",
       "      <th>9</th>\n",
       "      <td>Partij voor de Dieren(PvdD)</td>\n",
       "      <td>146</td>\n",
       "      <td>2</td>\n",
       "    </tr>\n",
       "    <tr>\n",
       "      <th>10</th>\n",
       "      <td>50Plus(50+)</td>\n",
       "      <td>195</td>\n",
       "      <td>2</td>\n",
       "    </tr>\n",
       "  </tbody>\n",
       "</table>\n",
       "</div>"
      ],
      "text/plain": [
       "                                        Partijen  Spreekbeurten  Zetels\n",
       "0   Volkspartij voor Vrijheid en Democratie(VVD)            222      41\n",
       "1                     Partij van de Arbeid(PvdA)             59      38\n",
       "2                   Partij voor de Vrijheid(PVV)             52      15\n",
       "3                      Socialistische Partij(SP)             61      15\n",
       "4               Christen-Democratisch Appèl(CDA)             90      13\n",
       "5                             Democraten 66(D66)            139      12\n",
       "6                               ChristenUnie(CU)            100       5\n",
       "7                                 GroenLinks(GL)              8       4\n",
       "8          Staatkundig Gereformeerde Partij(SGP)              0       3\n",
       "9                    Partij voor de Dieren(PvdD)            146       2\n",
       "10                                   50Plus(50+)            195       2"
      ]
     },
     "execution_count": 15,
     "metadata": {},
     "output_type": "execute_result"
    }
   ],
   "source": [
    "Spreekbeurten = [vvd,pvda,pvv, sp, cda, d66, cu, gl, sgp, pvdd, vp]\n",
    "data_z = pd.DataFrame({'Partijen': Partijen,'Spreekbeurten': Spreekbeurten,'Zetels': Zetel_aantal})\n",
    "data_z"
   ]
  },
  {
   "cell_type": "markdown",
   "metadata": {
    "collapsed": true
   },
   "source": [
    "## Slideshow"
   ]
  },
  {
   "cell_type": "code",
   "execution_count": 1,
   "metadata": {
    "collapsed": false
   },
   "outputs": [
    {
     "data": {
      "text/html": [
       "<iframe src=https://nbviewer.jupyter.org/github/PieInTheSky/DS/blob/master/10359486_week8.ipynb width=900 height=500></iframe>"
      ],
      "text/plain": [
       "<IPython.core.display.HTML object>"
      ]
     },
     "execution_count": 1,
     "metadata": {},
     "output_type": "execute_result"
    }
   ],
   "source": [
    "from IPython.display import HTML\n",
    "HTML('<iframe src=https://nbviewer.jupyter.org/github/PieInTheSky/DS/blob/master/10359486_week8.ipynb width=900 height=500></iframe>')"
   ]
  }
 ],
 "metadata": {
  "kernelspec": {
   "display_name": "Python 2",
   "language": "python",
   "name": "python2"
  },
  "language_info": {
   "codemirror_mode": {
    "name": "ipython",
    "version": 2
   },
   "file_extension": ".py",
   "mimetype": "text/x-python",
   "name": "python",
   "nbconvert_exporter": "python",
   "pygments_lexer": "ipython2",
   "version": "2.7.13"
  }
 },
 "nbformat": 4,
 "nbformat_minor": 2
}
